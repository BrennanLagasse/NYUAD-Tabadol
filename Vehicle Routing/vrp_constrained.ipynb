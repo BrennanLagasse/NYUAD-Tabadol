{
 "cells": [
  {
   "cell_type": "code",
   "execution_count": 34,
   "metadata": {},
   "outputs": [
    {
     "ename": "ImportError",
     "evalue": "cannot import name 'check_feasibility_sample' from 'process_output' (c:\\Users\\brenn\\OneDrive - Yale University\\Desktop\\NYUAD\\new_vrp\\Vehicle Routing\\process_output.py)",
     "output_type": "error",
     "traceback": [
      "\u001b[1;31m---------------------------------------------------------------------------\u001b[0m",
      "\u001b[1;31mImportError\u001b[0m                               Traceback (most recent call last)",
      "Cell \u001b[1;32mIn[34], line 16\u001b[0m\n\u001b[0;32m     13\u001b[0m \u001b[38;5;66;03m# Define Token here to run\u001b[39;00m\n\u001b[0;32m     14\u001b[0m \u001b[38;5;28;01mfrom\u001b[39;00m \u001b[38;5;21;01mcredentials\u001b[39;00m \u001b[38;5;28;01mimport\u001b[39;00m TOKEN\n\u001b[1;32m---> 16\u001b[0m \u001b[38;5;28;01mfrom\u001b[39;00m \u001b[38;5;21;01mprocess_output\u001b[39;00m \u001b[38;5;28;01mimport\u001b[39;00m get_routes_from_sample, get_cost_routes, report_output, check_feasibility_sample\n\u001b[0;32m     18\u001b[0m \u001b[38;5;28;01mfrom\u001b[39;00m \u001b[38;5;21;01mvrp\u001b[39;00m \u001b[38;5;28;01mimport\u001b[39;00m VehicleRoutingProblem\n",
      "\u001b[1;31mImportError\u001b[0m: cannot import name 'check_feasibility_sample' from 'process_output' (c:\\Users\\brenn\\OneDrive - Yale University\\Desktop\\NYUAD\\new_vrp\\Vehicle Routing\\process_output.py)"
     ]
    }
   ],
   "source": [
    "from dimod import (\n",
    "    Binary,\n",
    "    BinaryQuadraticModel,\n",
    "    ConstrainedQuadraticModel,\n",
    ")\n",
    "\n",
    "from dwave.system import LeapHybridCQMSampler\n",
    "\n",
    "import random\n",
    "import pandas as pd\n",
    "import numpy as np\n",
    "\n",
    "# Define Token here to run\n",
    "from credentials import TOKEN\n",
    "\n",
    "from process_output import get_routes_from_sample, get_cost_routes, report_output, check_feasibility_sample\n",
    "\n",
    "from vrp import VehicleRoutingProblem"
   ]
  },
  {
   "cell_type": "code",
   "execution_count": 8,
   "metadata": {},
   "outputs": [],
   "source": [
    "def build_vrp_cqm(num_locations, distances, num_vehicles, max_distance):\n",
    "    \"\"\"\n",
    "    Input:\n",
    "        num_locations: number of distinct locations for orders\n",
    "        distances: an matrix with the distances between respective locations for a fully connected graph\n",
    "        num_vehicles: the number of vehicles used\n",
    "        max_distance: the maximum distance that a truck can drive in one day\n",
    "    Output:\n",
    "        A constrained binary quadratic model representing a CVRP\n",
    "    \"\"\"\n",
    "\n",
    "    M = num_vehicles\n",
    "    N = num_locations\n",
    "\n",
    "    cqm = ConstrainedQuadraticModel()\n",
    "\n",
    "    # Create the binary variables and objective\n",
    "    x, obj = VehicleRoutingProblem.construct_objective(num_locations, distances, num_vehicles)\n",
    "\n",
    "    cqm.set_objective(obj)\n",
    "\n",
    "    # Implement constraints:\n",
    "\n",
    "    # 1. Each location should be served by exactly one vehicle (only checks first N because depot is required start and end location by construction)\n",
    "    for j in range(N):\n",
    "        sum = 0\n",
    "        for m in range(M):\n",
    "            for k in range(N):\n",
    "                sum += x[m, j, k]\n",
    "\n",
    "        cqm.add_constraint(sum == 1,\n",
    "                           label=f\"Vertex {j} is not visited or visited more than once\")\n",
    "\n",
    "    # 2. Each vehicle is in one location\n",
    "    for i in range(M):\n",
    "        for k in range(N):\n",
    "            sum = 0\n",
    "            for j in range(N + 1):\n",
    "                sum += x[i, j, k]\n",
    "            cqm.add_constraint(sum == 1,\n",
    "                               label=f\"Vehicle {i} is at more or less than one position at time {k}\")\n",
    "            \n",
    "    #3. Each vehicle drives less than the cap\n",
    "    for m in range(M):\n",
    "        sum = 0\n",
    "\n",
    "        for i in range(N+1):\n",
    "            \n",
    "            # Add in the distances from deport to first, last to depot\n",
    "            sum += x[m, i, 0]*distances[N][i]\n",
    "            sum += x[m, i, N-1]*distances[i][N]\n",
    "\n",
    "            # Go through the steps in the middle\n",
    "            for j in range(N+1):\n",
    "                for k in range(N-1):\n",
    "                    sum += x[m, i, k]*x[m, j, k+1]*distances[i][j]\n",
    "\n",
    "        cqm.add_constraint(sum <= max_distance,\n",
    "                            label=f\"Vehicle {m} drives more than the maximum capacity\")\n",
    "\n",
    "            \n",
    "    # Return the constrained model\n",
    "    return cqm"
   ]
  },
  {
   "cell_type": "code",
   "execution_count": 9,
   "metadata": {},
   "outputs": [],
   "source": [
    "def run_cqm(cqm):\n",
    "    \"\"\"Run the provided CQM on the Leap Hybrid CQM Sampler with postselection of feasible solutions\"\"\"\n",
    "    sampler = LeapHybridCQMSampler(token=TOKEN)\n",
    "\n",
    "    sampleset = sampler.sample_cqm(cqm)\n",
    "    feasible_sampleset = sampleset.filter(lambda row: row.is_feasible)\n",
    "\n",
    "    num_feasible = len(feasible_sampleset)\n",
    "    errors = \" \"\n",
    "    if num_feasible == 0:\n",
    "        print(\"No feasible solution found.\")\n",
    "        return sampleset\n",
    "\n",
    "    print(\"\\nFeasible solution found.\\n\")\n",
    "\n",
    "    return feasible_sampleset"
   ]
  },
  {
   "cell_type": "code",
   "execution_count": 10,
   "metadata": {},
   "outputs": [
    {
     "name": "stdout",
     "output_type": "stream",
     "text": [
      "[0, 8, 6, 7, 9, 8]\n",
      "[8, 0, 9, 5, 7, 9]\n",
      "[6, 9, 0, 5, 9, 5]\n",
      "[7, 5, 5, 0, 6, 9]\n",
      "[9, 7, 9, 6, 0, 8]\n",
      "[8, 9, 5, 9, 8, 0]\n"
     ]
    }
   ],
   "source": [
    "# Create a sample problem\n",
    "num_destinations = 5\n",
    "num_vehicles = 1\n",
    "max_distance = 300\n",
    "\n",
    "# Generate a random symmetric cost matrix\n",
    "cost_matrix = [[0]*(num_destinations+1) for _ in range(num_destinations + 1)]\n",
    "\n",
    "for i in range(num_destinations + 1):\n",
    "    for j in range(i, num_destinations + 1):\n",
    "        # Select random values that do not violate the triangle inequality\n",
    "        if i == j:\n",
    "            cost_matrix[i][j] = 0\n",
    "        else:\n",
    "            val = random.randint(5,9)\n",
    "            cost_matrix[i][j] = val\n",
    "            cost_matrix[j][i] = val\n",
    "\n",
    "# Print the adjacency matrix\n",
    "for row in cost_matrix:\n",
    "    print(row)"
   ]
  },
  {
   "cell_type": "markdown",
   "metadata": {},
   "source": [
    "### Test 1: Traveling Salesman Problem"
   ]
  },
  {
   "cell_type": "code",
   "execution_count": 11,
   "metadata": {},
   "outputs": [],
   "source": [
    "cqm = build_vrp_cqm(num_destinations, cost_matrix, num_vehicles, max_distance)"
   ]
  },
  {
   "cell_type": "code",
   "execution_count": 12,
   "metadata": {},
   "outputs": [
    {
     "name": "stdout",
     "output_type": "stream",
     "text": [
      "\n",
      "Feasible solution found.\n",
      "\n"
     ]
    }
   ],
   "source": [
    "feasible_sampleset = run_cqm(cqm)"
   ]
  },
  {
   "cell_type": "code",
   "execution_count": 13,
   "metadata": {},
   "outputs": [
    {
     "name": "stdout",
     "output_type": "stream",
     "text": [
      "Best route: [[4, 3, 1, 0, 2]]\n",
      "Best cost: 38.0\n"
     ]
    }
   ],
   "source": [
    "lowest_energy_sample = feasible_sampleset.lowest().first.sample\n",
    "\n",
    "routes = get_routes_from_sample(lowest_energy_sample, num_vehicles, num_destinations)\n",
    "\n",
    "print(f'Best route: {routes}')\n",
    "\n",
    "print(f'Best cost: {feasible_sampleset.lowest().first.energy}')\n",
    "\n",
    "print(f'Feasible: {check_feasibility_sample(lowest_energy_sample, num_vehicles, num_destinations, cost_matrix, max_distance)}')\n",
    "\n",
    "\n",
    "#print(get_cost_routes(routes, cost_matrix))\n",
    "\n",
    "# print(feasible_sampleset)"
   ]
  },
  {
   "cell_type": "code",
   "execution_count": 32,
   "metadata": {},
   "outputs": [
    {
     "name": "stdout",
     "output_type": "stream",
     "text": [
      "38\n",
      "[[3, 2, 0, 4, 1]]\n"
     ]
    }
   ],
   "source": [
    "# Lazy sanity check\n",
    "r = []\n",
    "for i in range(5):\n",
    "    r.append(i)\n",
    "\n",
    "min = 300\n",
    "best_route = r\n",
    "# Randomly sample a lot of options\n",
    "for i in range(10000):\n",
    "    random.shuffle(r)\n",
    "\n",
    "    cost = get_cost_routes([r], cost_matrix)\n",
    "    if cost < min:\n",
    "        min = cost\n",
    "        best_routes = [r]\n",
    "print(min)\n",
    "print(best_routes)"
   ]
  },
  {
   "cell_type": "markdown",
   "metadata": {},
   "source": [
    "### Test 2: Capacitated Multiple Vehicle Routing Problem"
   ]
  },
  {
   "cell_type": "code",
   "execution_count": 14,
   "metadata": {},
   "outputs": [],
   "source": [
    "cqm2 = build_vrp_cqm(num_destinations, cost_matrix, num_vehicles=2, max_distance=30)"
   ]
  },
  {
   "cell_type": "code",
   "execution_count": 15,
   "metadata": {},
   "outputs": [
    {
     "name": "stdout",
     "output_type": "stream",
     "text": [
      "\n",
      "Feasible solution found.\n",
      "\n"
     ]
    }
   ],
   "source": [
    "feasible_sampleset2 = run_cqm(cqm2)"
   ]
  },
  {
   "cell_type": "code",
   "execution_count": 16,
   "metadata": {},
   "outputs": [
    {
     "name": "stdout",
     "output_type": "stream",
     "text": [
      "Best routes (depot omitted at start and end):\n",
      "\tVehicle 0: [0]\n",
      "\tVehicle 1: [4, 1, 3, 2]\n",
      "Best cost: 46\n"
     ]
    }
   ],
   "source": [
    "lowest_energy_sample2 = feasible_sampleset2.lowest().first.sample\n",
    "\n",
    "routes2 = get_routes_from_sample(lowest_energy_sample2, num_vehicles=2, num_steps=num_destinations)\n",
    "\n",
    "report_output(routes2, cost_matrix)"
   ]
  },
  {
   "cell_type": "code",
   "execution_count": 31,
   "metadata": {},
   "outputs": [
    {
     "name": "stdout",
     "output_type": "stream",
     "text": [
      "47\n",
      "[[0, 2], [4, 3, 1]]\n"
     ]
    }
   ],
   "source": [
    "# Lazy sanity check\n",
    "r = []\n",
    "for i in range(5):\n",
    "    r.append(i)\n",
    "\n",
    "min = 300\n",
    "best_route = r\n",
    "# Randomly sample a lot of options\n",
    "for i in range(10000):\n",
    "    random.shuffle(r)\n",
    "\n",
    "    r1 = r[:2]\n",
    "    r2 = r[2:]\n",
    "\n",
    "    cost = get_cost_routes([r1, r2], cost_matrix)\n",
    "    if cost < min:\n",
    "        min = cost\n",
    "        best_routes = [r1, r2]\n",
    "print(min)\n",
    "print(best_routes)"
   ]
  }
 ],
 "metadata": {
  "kernelspec": {
   "display_name": "dwave_env",
   "language": "python",
   "name": "python3"
  },
  "language_info": {
   "codemirror_mode": {
    "name": "ipython",
    "version": 3
   },
   "file_extension": ".py",
   "mimetype": "text/x-python",
   "name": "python",
   "nbconvert_exporter": "python",
   "pygments_lexer": "ipython3",
   "version": "3.12.3"
  }
 },
 "nbformat": 4,
 "nbformat_minor": 2
}
