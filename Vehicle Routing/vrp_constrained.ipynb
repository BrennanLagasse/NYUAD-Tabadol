{
 "cells": [
  {
   "cell_type": "markdown",
   "metadata": {},
   "source": [
    "There is a lack of affordable access to many important medications in the Arab world. Some of these medicationsa are available in neighboring countries at reasonable prices. If these medications can be distributed effectively taking advantage of existing transport between the countries, then these crucial medications can be made more plentiful and affordable. To minimize the cost of medications and take advantage of this opportunity for arbitrage, transport of medications from airports to consumers must be as efficient as possible. We solve this problem as a vehicle routing problem where the objective is to minimize the overall cost of deliveries given a fleet of vehicles with limited capacities. We formulate this as a quantum constrained binary optimization problem which is solved using quantum annealing with D-Wave's superconducting hardware."
   ]
  },
  {
   "cell_type": "code",
   "execution_count": 56,
   "metadata": {},
   "outputs": [],
   "source": [
    "from dimod import (\n",
    "    Binary,\n",
    "    BinaryQuadraticModel,\n",
    "    ConstrainedQuadraticModel,\n",
    "    quicksum,\n",
    ")\n",
    "\n",
    "from dwave.system import LeapHybridCQMSampler\n",
    "\n",
    "import random\n",
    "import pandas as pd\n",
    "import numpy as np\n",
    "\n",
    "# Insert token here to run\n",
    "#TOKEN = \"\"\n",
    "\n",
    "from credentials import TOKEN\n",
    "\n",
    "from process_output import get_routes_from_sample, get_cost_routes, report_output"
   ]
  },
  {
   "cell_type": "markdown",
   "metadata": {},
   "source": [
    "First, consider the case where there is a single airport where medication can be delivered and the medication must be delivered at the lowest cost possible by a fleet of delivery vehicles. These vehicles are limited in capacity and how far they can travel in one day. To solve this problem efficiently with VQE, we first formalize it as a constrained optimization problem:\n",
    "\n",
    "Consider when there are $M$ vehicles and $N$ delivery locations. \n",
    "\n",
    "Let $x_{i, j, k}$ be an indicator variable such that $x_{i, j, k} = 1$ if vehicle $i$ visits dropoff location $j$ at stop number $k$ on its route and $x_{i, j, k} = 0$ otherwise.\n",
    "\n",
    "Number each of the delivery locations $1$ to $N+1$ where the final location is the airport where the vehicles must start and end.\n",
    "\n",
    "Since each vehicle must start at the airport, the cost for all vehicles to go to the first destination is \n",
    "$$\\sum\\limits_{m=1}^M\\sum\\limits_{n=1}^N x_{m,n,1}C_{N+1, n}$$\n",
    "the cost of each vehicle to go from its final destination back to the airport is\n",
    "$$\\sum\\limits_{m=1}^M\\sum\\limits_{n=1}^N x_{m,n,N}C_{n, N+1}$$\n",
    "and the cost of the vehicle to go between all of its destinations in the middle is\n",
    "$$\\sum\\limits_{m=1}^M\\sum\\limits_{n=1}^{N-1}\\sum\\limits_{i=1}^{N+1}\\sum\\limits_{j=1}^{N+1} x_{m,i,n}x_{m,j,n+1}C_{i,j}$$\n",
    "\n",
    "By combining these terms, we can achieve the objective function for this problem:\n",
    "$$\\sum\\limits_{m=1}^M\\sum\\limits_{n=1}^N x_{m,n,1}C_{N+1, n} + \\sum\\limits_{m=1}^M\\sum\\limits_{n=1}^N x_{m,n,N}C_{n, N+1} + \\sum\\limits_{m=1}^M\\sum\\limits_{n=1}^{N-1}\\sum\\limits_{i=1}^{N+1}\\sum\\limits_{j=1}^{N+1} x_{m,i,n}x_{m,j,n+1}C_{i,j}$$\n",
    "\n",
    "However, we must also include practical constraints. First, we want the vehicles to drop off all of the medication, which means that each vertex must be visited at least once. Since the input to this method is a fully connected graph that follows the triangle inequality, it follows that each vertex should only be visited only once. Thus we add the constraint\n",
    "\n",
    "$$\\forall j \\in [N+1], \\sum\\limits_{m=1}^M\\sum\\limits_{k=1}^{N+1} x_{m,j,k} = 1$$\n",
    "\n",
    "Next, it is only feasible for a vehicle to be in one location at a time. This constraint can be represented as\n",
    "\n",
    "$$\\forall i \\in [M], k \\in [N+1], \\sum\\limits_{j=1}^{N+1} x_{i, j, k} == 1$$\n",
    "\n",
    "Finally, vehicles are constrained in how far they can drive in one trip. If vehicle $i$ can travel at must $d_i$, this constraint can be expressed as\n",
    "\n",
    "$$\\forall i \\in [M], \\sum\\limits_{a=1}^{N+1}\\sum\\limits_{b=1}^{N+1}\\sum\\limits_{k=1}^N x_{i,a,k}x_{i,b,k+1}C_{i,j} \\leq d_i$$"
   ]
  },
  {
   "cell_type": "code",
   "execution_count": 57,
   "metadata": {},
   "outputs": [],
   "source": [
    "def build_vrp_cqm(num_locations, distances, num_vehicles, max_distance):\n",
    "    \"\"\"\n",
    "    Input:\n",
    "        num_locations: number of distinct locations for orders\n",
    "        distances: an matrix with the distances between respective locations for a fully connected graph\n",
    "        num_vehicles: the number of vehicles used\n",
    "        max_distance: the maximum distance that a truck can drive in one day\n",
    "    Output:\n",
    "        A constrained quadratic model representing the problem\n",
    "    \"\"\"\n",
    "\n",
    "    M = num_vehicles\n",
    "    N = num_locations\n",
    "\n",
    "    cqm = ConstrainedQuadraticModel()\n",
    "\n",
    "    # Create all the variables: one for each vehicle/location/position combo\n",
    "    # k is timestep, j is vertex, i is vehicle\n",
    "    x = {(i, j, k): Binary(str(i) + \"_\" + str(j) + \"_\" + str(k)) for k in range(N) for j in range(N+1) for i in range(M)}\n",
    "\n",
    "    # Define the unconstrained binary optimization problem\n",
    "    obj = BinaryQuadraticModel(vartype=\"BINARY\")\n",
    "\n",
    "    # The cost of going from the depot to the first stop\n",
    "    for m in range(M):\n",
    "        for n in range(N):\n",
    "            obj += x[m, n, 0] * distances[N][n]\n",
    "\n",
    "    # The cost of going from the last stop to the depot\n",
    "    for m in range(M):\n",
    "        for n in range(N):\n",
    "            obj += x[m, n, N-1] * distances[n][N]\n",
    "\n",
    "    # The cost of going between all stops in the middle\n",
    "    for m in range(M):\n",
    "        for n in range(N-1):\n",
    "            for i in range(N+1):\n",
    "                for j in range(N+1):\n",
    "                    obj += x[m, i, n] * x[m, j, n + 1] * distances[i][j]\n",
    "\n",
    "    cqm.set_objective(obj)\n",
    "\n",
    "    # Implement constraints:\n",
    "\n",
    "    # 1. Each location should be served by exactly one vehicle (only checks first N because depot is required start and end location by construction)\n",
    "    for j in range(N):\n",
    "        sum = 0\n",
    "        for m in range(M):\n",
    "            for k in range(N):\n",
    "                sum += x[m, j, k]\n",
    "\n",
    "        cqm.add_constraint(sum == 1,\n",
    "                           label=f\"Vertex {j} is not visited or visited more than once\")\n",
    "\n",
    "    # 2. Each vehicle is in one location\n",
    "    for i in range(M):\n",
    "        for k in range(N):\n",
    "            sum = 0\n",
    "            for j in range(N + 1):\n",
    "                sum += x[i, j, k]\n",
    "            cqm.add_constraint(sum == 1,\n",
    "                               label=f\"Vehicle {i} is at more or less than one position at time {k}\")\n",
    "            \n",
    "    #3. Each vehicle drives less than the cap\n",
    "    for m in range(M):\n",
    "        sum = 0\n",
    "\n",
    "        for i in range(N+1):\n",
    "            \n",
    "            # Add in the distances from deport to first, last to depot\n",
    "            sum += x[m, i, 0]*distances[N][i]\n",
    "            sum += x[m, i, N-1]*distances[i][N]\n",
    "\n",
    "            # Go through the steps in the middle\n",
    "            for j in range(N+1):\n",
    "                for k in range(N-1):\n",
    "                    sum += x[m, i, k]*x[m, j, k+1]*distances[i][j]\n",
    "\n",
    "        cqm.add_constraint(sum <= max_distance,\n",
    "                            label=f\"Vehicle {m} drives more than the maximum capacity\")\n",
    "\n",
    "            \n",
    "    # Return the constrained optimization solution\n",
    "    return cqm"
   ]
  },
  {
   "cell_type": "code",
   "execution_count": 58,
   "metadata": {},
   "outputs": [],
   "source": [
    "def run_cqm(cqm):\n",
    "    \"\"\"Run the provided CQM on the Leap Hybrid CQM Sampler.\"\"\"\n",
    "    sampler = LeapHybridCQMSampler(token=TOKEN)\n",
    "\n",
    "    sampleset = sampler.sample_cqm(cqm)\n",
    "    feasible_sampleset = sampleset.filter(lambda row: row.is_feasible)\n",
    "\n",
    "    num_feasible = len(feasible_sampleset)\n",
    "    errors = \" \"\n",
    "    if num_feasible == 0:\n",
    "        print(\"No feasible solution found.\")\n",
    "        return sampleset\n",
    "\n",
    "    print(\"\\nFeasible solution found.\\n\")\n",
    "\n",
    "    return feasible_sampleset"
   ]
  },
  {
   "cell_type": "code",
   "execution_count": 59,
   "metadata": {},
   "outputs": [
    {
     "name": "stdout",
     "output_type": "stream",
     "text": [
      "[0, 6, 7, 9, 8, 9]\n",
      "[6, 0, 5, 5, 9, 5]\n",
      "[7, 5, 0, 9, 6, 9]\n",
      "[9, 5, 9, 0, 9, 5]\n",
      "[8, 9, 6, 9, 0, 8]\n",
      "[9, 5, 9, 5, 8, 0]\n"
     ]
    }
   ],
   "source": [
    "# Create a sample problem\n",
    "num_destinations = 5\n",
    "num_vehicles = 1\n",
    "max_distance = 300\n",
    "\n",
    "# Generate a random symmetric cost matrix\n",
    "cost_matrix = [[0]*(num_destinations+1) for _ in range(num_destinations + 1)]\n",
    "\n",
    "for i in range(num_destinations + 1):\n",
    "    for j in range(i, num_destinations + 1):\n",
    "        # Select random values that do not violate the triangle inequality\n",
    "        if i == j:\n",
    "            cost_matrix[i][j] = 0\n",
    "        else:\n",
    "            val = random.randint(5,9)\n",
    "            cost_matrix[i][j] = val\n",
    "            cost_matrix[j][i] = val\n",
    "\n",
    "# Print the adjacency matrix\n",
    "for row in cost_matrix:\n",
    "    print(row)\n",
    "\n",
    "cqm = build_vrp_cqm(num_destinations, cost_matrix, num_vehicles, max_distance)"
   ]
  },
  {
   "cell_type": "code",
   "execution_count": 60,
   "metadata": {},
   "outputs": [
    {
     "name": "stdout",
     "output_type": "stream",
     "text": [
      "\n",
      "Feasible solution found.\n",
      "\n"
     ]
    }
   ],
   "source": [
    "feasible_sampleset = run_cqm(cqm)"
   ]
  },
  {
   "cell_type": "code",
   "execution_count": 61,
   "metadata": {},
   "outputs": [
    {
     "name": "stdout",
     "output_type": "stream",
     "text": [
      "Best route: [[3, 1, 0, 2, 4]]\n",
      "Best cost: 37.0\n"
     ]
    }
   ],
   "source": [
    "lowest_energy_sample = feasible_sampleset.lowest().first.sample\n",
    "\n",
    "routes = get_routes_from_sample(lowest_energy_sample, num_vehicles, num_destinations)\n",
    "\n",
    "print(f'Best route: {routes}')\n",
    "\n",
    "print(f'Best cost: {feasible_sampleset.lowest().first.energy}')\n",
    "\n",
    "#print(get_cost_routes(routes, cost_matrix))\n",
    "\n",
    "# print(feasible_sampleset)"
   ]
  },
  {
   "cell_type": "code",
   "execution_count": 62,
   "metadata": {},
   "outputs": [],
   "source": [
    "# Test the solver on an instance with more than one vehicle\n",
    "cqm2 = build_vrp_cqm(num_destinations, cost_matrix, num_vehicles=2, max_distance=30)"
   ]
  },
  {
   "cell_type": "code",
   "execution_count": 63,
   "metadata": {},
   "outputs": [
    {
     "name": "stdout",
     "output_type": "stream",
     "text": [
      "\n",
      "Feasible solution found.\n",
      "\n"
     ]
    }
   ],
   "source": [
    "feasible_sampleset2 = run_cqm(cqm2)"
   ]
  },
  {
   "cell_type": "code",
   "execution_count": 64,
   "metadata": {},
   "outputs": [],
   "source": [
    "def parse_string(input_string):\n",
    "    return list(map(int, input_string.split('_')))\n",
    "\n",
    "def get_routes_from_sample(sample, num_vehicles, num_steps):\n",
    "    \"\"\"Builds a set of routes from the sample returned.\"\"\"\n",
    "\n",
    "    routes =  [[-1]*num_steps for _ in range(num_vehicles)]\n",
    "\n",
    "    # Go through all entries\n",
    "    for key, val in sample.items():\n",
    "        vehicle, vertex, step = parse_string(key)\n",
    "        if val == 1.0:\n",
    "            routes[vehicle][step] = vertex\n",
    "\n",
    "    # Clean up trailing and leading values (not optimized)\n",
    "    for route in routes:\n",
    "        while route:\n",
    "            if route[0] == 5:\n",
    "                route.pop(0)\n",
    "            else:\n",
    "                break\n",
    "        while route:\n",
    "            if route[-1] == 5:\n",
    "                route.pop(len(route) - 1)\n",
    "            else:\n",
    "                break\n",
    "    \n",
    "    return routes"
   ]
  },
  {
   "cell_type": "code",
   "execution_count": 67,
   "metadata": {},
   "outputs": [
    {
     "name": "stdout",
     "output_type": "stream",
     "text": [
      "Best routes (depot omitted at start and end):\n",
      "\tVehicle 0: [4, 2, 0]\n",
      "\tVehicle 1: [3, 1]\n",
      "Best cost: 45\n"
     ]
    }
   ],
   "source": [
    "lowest_energy_sample2 = feasible_sampleset2.lowest().first.sample\n",
    "\n",
    "routes2 = get_routes_from_sample(lowest_energy_sample2, num_vehicles=2, num_steps=num_destinations)\n",
    "\n",
    "report_output(routes2, cost_matrix)"
   ]
  },
  {
   "cell_type": "code",
   "execution_count": 68,
   "metadata": {},
   "outputs": [
    {
     "name": "stdout",
     "output_type": "stream",
     "text": [
      "45\n",
      "[[3, 1], [0, 2, 4]]\n"
     ]
    }
   ],
   "source": [
    "# Lazy sanity check\n",
    "r = []\n",
    "for i in range(5):\n",
    "    r.append(i)\n",
    "\n",
    "min = 300\n",
    "best_route = r\n",
    "# Randomly sample a lot of options\n",
    "for i in range(10000):\n",
    "    random.shuffle(r)\n",
    "\n",
    "    r1 = r[:2]\n",
    "    r2 = r[2:]\n",
    "\n",
    "    cost = get_cost_routes([r1, r2], cost_matrix)\n",
    "    if cost < min:\n",
    "        min = cost\n",
    "        best_routes = [r1, r2]\n",
    "print(min)\n",
    "print(best_routes)"
   ]
  }
 ],
 "metadata": {
  "kernelspec": {
   "display_name": "dwave_env",
   "language": "python",
   "name": "python3"
  },
  "language_info": {
   "codemirror_mode": {
    "name": "ipython",
    "version": 3
   },
   "file_extension": ".py",
   "mimetype": "text/x-python",
   "name": "python",
   "nbconvert_exporter": "python",
   "pygments_lexer": "ipython3",
   "version": "3.12.3"
  }
 },
 "nbformat": 4,
 "nbformat_minor": 2
}
