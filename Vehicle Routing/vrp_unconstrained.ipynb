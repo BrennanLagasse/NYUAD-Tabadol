{
 "cells": [
  {
   "cell_type": "code",
   "execution_count": 1,
   "metadata": {},
   "outputs": [],
   "source": [
    "from dimod import (\n",
    "    BinaryQuadraticModel\n",
    ")\n",
    "\n",
    "from dwave.system import LeapHybridSampler\n",
    "\n",
    "import random\n",
    "import pandas as pd\n",
    "import numpy as np\n",
    "\n",
    "# Define Token here to run\n",
    "from credentials import TOKEN\n",
    "\n",
    "from process_output import get_routes_from_sample, get_cost_routes, report_output, check_feasibility_sample\n",
    "\n",
    "from vrp import VehicleRoutingProblem"
   ]
  },
  {
   "cell_type": "code",
   "execution_count": 2,
   "metadata": {},
   "outputs": [],
   "source": [
    "def build_vrp_bqm(num_locations, distances, num_vehicles, max_distance):\n",
    "    \"\"\"\n",
    "    Input:\n",
    "        num_locations: number of distinct locations for orders\n",
    "        distances: an matrix with the distances between respective locations for a fully connected graph\n",
    "        num_vehicles: the number of vehicles used\n",
    "        max_distance: the maximum distance that a truck can drive in one day\n",
    "    Output:\n",
    "        An unconstrained binary quadratic model with penalty terms to impose constraints representing a CVRP\n",
    "    \"\"\"\n",
    "\n",
    "    M = num_vehicles\n",
    "    N = num_locations\n",
    "\n",
    "    # Penalty weights\n",
    "    SINGLE_LOCATION_CONSTANT = 10**7\n",
    "    VISIT_ALL_CONSTANT = 10**7\n",
    "\n",
    "    # Create the binary variables and objective\n",
    "    x, obj = VehicleRoutingProblem.construct_objective(num_locations, distances, num_vehicles)\n",
    "\n",
    "    # Implement constraints as penalties to the objective\n",
    "    \n",
    "    # 1. Each location should be served by exactly one vehicle (only checks first N because depot is otherwise factored in)\n",
    "    # TODO: Review again\n",
    "    for k in range(N):\n",
    "        # A term\n",
    "        for a in range(M):\n",
    "            for b in range(N):\n",
    "                for c in range(a, M):\n",
    "                    for d in range(N):\n",
    "                        if a != b or c != d:\n",
    "                            e = x[a, k, b]\n",
    "                            f = x[c, k, d]\n",
    "                            obj += x[a, k, b] * x[c, k, d] * VISIT_ALL_CONSTANT\n",
    "                obj -= 0.5 * x[a, k, b] * VISIT_ALL_CONSTANT   \n",
    "\n",
    "    # 2. Each vehicle is in at most one location (this accounts for how some paths will not hit all vertices)\n",
    "    for m in range(M):\n",
    "        for n in range(N):\n",
    "            # A term\n",
    "            for i in range(N+1):\n",
    "                for j in range(i+1, N+1):\n",
    "                    obj += SINGLE_LOCATION_CONSTANT * 2 * x[m, i, n] * x[m, j, n]\n",
    "                obj -= SINGLE_LOCATION_CONSTANT * x[m, i, n]\n",
    "                            \n",
    "    # Return the unconstrained optimization solution\n",
    "    return BinaryQuadraticModel(obj)"
   ]
  },
  {
   "cell_type": "code",
   "execution_count": 3,
   "metadata": {},
   "outputs": [],
   "source": [
    "def run_bqm(bqm):\n",
    "    \"\"\"Run the provided BQM on the Leap Hybrid BQM Sampler with postselection of feasible solutions\"\"\"\n",
    "    sampler = LeapHybridSampler(token=TOKEN)\n",
    "\n",
    "    sampleset = sampler.sample(bqm)\n",
    "\n",
    "    # TODO: Handle postselection\n",
    "    return sampleset\n",
    "\n",
    "    # feasible_sampleset = sampleset.filter(lambda row: row.is_feasible)\n",
    "\n",
    "    # num_feasible = len(feasible_sampleset)\n",
    "    # errors = \" \"\n",
    "    # if num_feasible == 0:\n",
    "    #     print(\"No feasible solution found.\")\n",
    "    #     return sampleset\n",
    "\n",
    "    # print(\"\\nFeasible solution found.\\n\")\n",
    "\n",
    "    return feasible_sampleset"
   ]
  },
  {
   "cell_type": "code",
   "execution_count": 4,
   "metadata": {},
   "outputs": [
    {
     "name": "stdout",
     "output_type": "stream",
     "text": [
      "[0, 9, 6, 7, 9, 7]\n",
      "[9, 0, 6, 6, 6, 8]\n",
      "[6, 6, 0, 8, 7, 5]\n",
      "[7, 6, 8, 0, 6, 7]\n",
      "[9, 6, 7, 6, 0, 6]\n",
      "[7, 8, 5, 7, 6, 0]\n"
     ]
    }
   ],
   "source": [
    "# Create a sample problem\n",
    "num_destinations = 5\n",
    "num_vehicles = 1\n",
    "max_distance = 300\n",
    "\n",
    "# Generate a random symmetric cost matrix\n",
    "cost_matrix = [[0]*(num_destinations+1) for _ in range(num_destinations + 1)]\n",
    "\n",
    "for i in range(num_destinations + 1):\n",
    "    for j in range(i, num_destinations + 1):\n",
    "        # Select random values that do not violate the triangle inequality\n",
    "        if i == j:\n",
    "            cost_matrix[i][j] = 0\n",
    "        else:\n",
    "            val = random.randint(5,9)\n",
    "            cost_matrix[i][j] = val\n",
    "            cost_matrix[j][i] = val\n",
    "\n",
    "# Print the adjacency matrix\n",
    "for row in cost_matrix:\n",
    "    print(row)"
   ]
  },
  {
   "cell_type": "markdown",
   "metadata": {},
   "source": [
    "### Test 1: Traveling Salesman Problem"
   ]
  },
  {
   "cell_type": "code",
   "execution_count": 5,
   "metadata": {},
   "outputs": [],
   "source": [
    "bqm = build_vrp_bqm(num_destinations, cost_matrix, num_vehicles, max_distance)"
   ]
  },
  {
   "cell_type": "code",
   "execution_count": 6,
   "metadata": {},
   "outputs": [],
   "source": [
    "feasible_sampleset = run_bqm(bqm)"
   ]
  },
  {
   "cell_type": "code",
   "execution_count": 7,
   "metadata": {},
   "outputs": [
    {
     "name": "stdout",
     "output_type": "stream",
     "text": [
      "  0_0_0 0_0_1 0_0_2 0_0_3 0_0_4 0_1_0 0_1_1 0_1_2 ... 0_5_4      energy num_oc.\n",
      "0     1     0     0     0     0     0     0     0 ...     1 -54999986.0       1\n",
      "['BINARY', 1 rows, 1 samples, 30 variables]\n"
     ]
    }
   ],
   "source": [
    "print(feasible_sampleset)"
   ]
  },
  {
   "cell_type": "code",
   "execution_count": 8,
   "metadata": {},
   "outputs": [
    {
     "name": "stdout",
     "output_type": "stream",
     "text": [
      "Best route: [[0]]\n",
      "Best cost: 14\n",
      "Violated constraint that location 1 must be visited\n",
      "Feasible: False\n",
      "14\n"
     ]
    }
   ],
   "source": [
    "lowest_energy_sample = feasible_sampleset.lowest().first.sample\n",
    "\n",
    "#lowest_energy_sample = {'0_0_0': 0, '0_0_1': 0, '0_0_2': 0, '0_0_3': 0, '0_0_4': 0, '0_1_0': 1, '0_1_1': 0, '0_1_2': 0, '0_1_3': 0, '0_1_4': 0, '0_2_0': 0, '0_2_1': 0, '0_2_2': 0, '0_2_3': 0, '0_2_4': 0, '0_3_0': 0, '0_3_1': 0, '0_3_2': 0, '0_3_3': 0, '0_3_4': 0, '0_4_0': 0, '0_4_1': 0, '0_4_2': 0, '0_4_3': 0, '0_4_4': 0, '0_5_0': 0, '0_5_1': 1, '0_5_2': 1, '0_5_3': 1, '0_5_4': 1}\n",
    "\n",
    "routes = get_routes_from_sample(lowest_energy_sample, num_vehicles, num_destinations)\n",
    "\n",
    "print(f'Best route: {routes}') # Nonsensical\n",
    "\n",
    "#print(f'Best energy (with penalties): {feasible_sampleset.lowest().first.energy}')\n",
    "print(f'Best cost: {get_cost_routes(routes, cost_matrix)}')\n",
    "print(f'Feasible: {check_feasibility_sample(lowest_energy_sample, num_vehicles, num_destinations, cost_matrix, max_distance, debug=True)}')\n",
    "\n",
    "print(get_cost_routes(routes, cost_matrix))\n",
    "\n",
    "#print(feasible_sampleset)"
   ]
  },
  {
   "cell_type": "markdown",
   "metadata": {},
   "source": [
    "### Test 2: Capacitated Multiple Vehicle Routing Problem"
   ]
  },
  {
   "cell_type": "code",
   "execution_count": 9,
   "metadata": {},
   "outputs": [],
   "source": [
    "cqm2 = build_vrp_bqm(num_destinations, cost_matrix, num_vehicles=2, max_distance=30)"
   ]
  },
  {
   "cell_type": "code",
   "execution_count": 10,
   "metadata": {},
   "outputs": [],
   "source": [
    "feasible_sampleset2 = run_bqm(cqm2)"
   ]
  },
  {
   "cell_type": "code",
   "execution_count": 17,
   "metadata": {},
   "outputs": [
    {
     "name": "stdout",
     "output_type": "stream",
     "text": [
      "Best routes (depot omitted at start and end):\n",
      "\tVehicle 0: [2]\n",
      "\tVehicle 1: [1]\n",
      "Best cost: 26\n",
      "Feasibility:\n",
      "Violated constraint that location 1 must be visited\n",
      "False\n"
     ]
    }
   ],
   "source": [
    "lowest_energy_sample2 = feasible_sampleset2.lowest().first.sample\n",
    "\n",
    "routes2 = get_routes_from_sample(lowest_energy_sample2, num_vehicles=2, num_steps=num_destinations)\n",
    "\n",
    "report_output(routes2, cost_matrix)\n",
    "\n",
    "print(\"Feasibility:\")\n",
    "print(f\"{check_feasibility_sample(lowest_energy_sample2, num_vehicles, num_destinations, cost_matrix, max_distance, debug=True)}\")"
   ]
  },
  {
   "cell_type": "code",
   "execution_count": 12,
   "metadata": {},
   "outputs": [
    {
     "name": "stdout",
     "output_type": "stream",
     "text": [
      "43\n",
      "[[0, 2], [3, 1, 4]]\n"
     ]
    }
   ],
   "source": [
    "# Lazy sanity check\n",
    "r = []\n",
    "for i in range(5):\n",
    "    r.append(i)\n",
    "\n",
    "min = 300\n",
    "best_route = r\n",
    "# Randomly sample a lot of options\n",
    "for i in range(10000):\n",
    "    random.shuffle(r)\n",
    "\n",
    "    r1 = r[:2]\n",
    "    r2 = r[2:]\n",
    "\n",
    "    cost = get_cost_routes([r1, r2], cost_matrix)\n",
    "    if cost < min:\n",
    "        min = cost\n",
    "        best_routes = [r1, r2]\n",
    "print(min)\n",
    "print(best_routes)"
   ]
  }
 ],
 "metadata": {
  "kernelspec": {
   "display_name": "dwave_env",
   "language": "python",
   "name": "python3"
  },
  "language_info": {
   "codemirror_mode": {
    "name": "ipython",
    "version": 3
   },
   "file_extension": ".py",
   "mimetype": "text/x-python",
   "name": "python",
   "nbconvert_exporter": "python",
   "pygments_lexer": "ipython3",
   "version": "3.12.3"
  }
 },
 "nbformat": 4,
 "nbformat_minor": 2
}
