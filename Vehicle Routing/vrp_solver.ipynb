{
 "cells": [
  {
   "cell_type": "code",
   "execution_count": 5,
   "metadata": {},
   "outputs": [],
   "source": [
    "import graph_representation\n",
    "%config InlineBackend.figure_format = 'svg'\n",
    "\n",
    "from dimod import (\n",
    "    Binary,\n",
    "    BinaryQuadraticModel,\n",
    "    ConstrainedQuadraticModel,\n",
    "    quicksum,\n",
    ")"
   ]
  },
  {
   "cell_type": "code",
   "execution_count": 6,
   "metadata": {},
   "outputs": [
    {
     "ename": "NameError",
     "evalue": "name 'sps' is not defined",
     "output_type": "error",
     "traceback": [
      "\u001b[1;31m---------------------------------------------------------------------------\u001b[0m",
      "\u001b[1;31mNameError\u001b[0m                                 Traceback (most recent call last)",
      "Cell \u001b[1;32mIn[6], line 11\u001b[0m\n\u001b[0;32m      6\u001b[0m instance, xc, yc \u001b[38;5;241m=\u001b[39m graph_representation\u001b[38;5;241m.\u001b[39mgenerate_vrp_instance(n, seed)\n\u001b[0;32m      8\u001b[0m \u001b[38;5;66;03m# \u001b[39;00m\n\u001b[0;32m      9\u001b[0m \u001b[38;5;66;03m#sps = FQS(n, m, instance)\u001b[39;00m\n\u001b[0;32m     10\u001b[0m \u001b[38;5;66;03m#sps.solve(solver='neal')\u001b[39;00m\n\u001b[1;32m---> 11\u001b[0m \u001b[43msps\u001b[49m\u001b[38;5;241m.\u001b[39mvisualize(xc, yc)\n",
      "\u001b[1;31mNameError\u001b[0m: name 'sps' is not defined"
     ]
    }
   ],
   "source": [
    "n = 5\n",
    "m = 2\n",
    "seed = 891\n",
    "\n",
    "# Generate a problem\n",
    "instance, xc, yc = graph_representation.generate_vrp_instance(n, seed)\n",
    "\n",
    "# \n",
    "#sps = FQS(n, m, instance)\n",
    "#sps.solve(solver='neal')\n",
    "#sps.visualize(xc, yc)"
   ]
  }
 ],
 "metadata": {
  "kernelspec": {
   "display_name": "dwave_env",
   "language": "python",
   "name": "python3"
  },
  "language_info": {
   "codemirror_mode": {
    "name": "ipython",
    "version": 3
   },
   "file_extension": ".py",
   "mimetype": "text/x-python",
   "name": "python",
   "nbconvert_exporter": "python",
   "pygments_lexer": "ipython3",
   "version": "3.12.3"
  }
 },
 "nbformat": 4,
 "nbformat_minor": 2
}
