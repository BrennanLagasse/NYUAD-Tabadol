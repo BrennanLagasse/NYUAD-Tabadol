{
 "cells": [
  {
   "cell_type": "code",
   "execution_count": 1,
   "metadata": {},
   "outputs": [],
   "source": [
    "\n",
    "import numpy as np\n",
    "from dwave.system import LeapHybridBQMSampler, LeapHybridCQMSampler\n",
    "from neal import SimulatedAnnealingSampler\n",
    "import pandas as pd\n"
   ]
  },
  {
   "cell_type": "code",
   "execution_count": 2,
   "metadata": {},
   "outputs": [],
   "source": [
    "bqm_solver = LeapHybridBQMSampler(token= 'DEV-bffc84fbc5334f436b32767dfbf3ea1ea603e152') #my id, change to give like a real imput when doing the real thing"
   ]
  },
  {
   "cell_type": "code",
   "execution_count": 3,
   "metadata": {},
   "outputs": [],
   "source": [
    "class Med:\n",
    "    # Constructor method to initialize the car with a make, model, and year\n",
    "    def __init__(self, value, weight):\n",
    "        self.value = value\n",
    "        self.weight = weight\n",
    "    \n",
    "    def give_ks(self):\n",
    "        return (self.value, self.weight)\n",
    "    \n",
    "    \n",
    "\n",
    "    "
   ]
  },
  {
   "cell_type": "code",
   "execution_count": 5,
   "metadata": {},
   "outputs": [],
   "source": [
    "\n",
    "dataset = {'sleepaid': Med(100, 4),\n",
    "            'retinol': Med(200, 5),\n",
    "            'Aspirin': Med(250, 3),\n",
    "            'Imuran': Med(1000, 5),\n",
    "            \"Liver albumin\" : Med(924, 7),\n",
    "            \"Acitretin Capsules\" : Med(200, 5),\n",
    "            \"Tretinon\" : Med(230, 9)}\n",
    "\n",
    "\n",
    "values = [dataset[d].value for d in dataset.keys()] \n",
    "weight = [dataset[d].weight for d in dataset.keys()] \n",
    "\n",
    "v= pd.DataFrame(values)\n",
    "w= pd.DataFrame(weight)\n",
    "\n"
   ]
  },
  {
   "cell_type": "code",
   "execution_count": 8,
   "metadata": {},
   "outputs": [],
   "source": [
    "\n",
    "#j in 0, 1, ..., N-1\n",
    "#wj = weight, vj = value || j\n",
    "\n",
    "# i in 0, 1, 2, ... M-1\n",
    "# ci = capacity of the ies knapsack\n",
    "#x_{i, j} = 1 if j is assigned to i\n",
    "from dimod import BQM\n",
    "\n",
    "def bqm_multiple_knapsack(num_med, num_trav, dataset=None, A = 2, B = 2, C= 2):\n",
    "    if not dataset:\n",
    "        weight = [i for i in range(num_med)]\n",
    "        values = [3 * i for i in range(num_trav)]\n",
    "        capacity = [4 * j + 5 for j in range(num_trav)]\n",
    "    else:\n",
    "        #fill this\n",
    "        pass\n",
    "\n",
    "\n",
    "    #for formulate the QUBO instance\n",
    "\n",
    "    #first Constraint: Any item j can be assigned to at most one knapsack. \n",
    "    # It is possible that an item is not assigned to any knapsack.\n",
    "    \n",
    "    bqm = BQM('BINARY')\n",
    "    \n",
    "    quadratic1 = {} \n",
    "\n",
    "    for j in range(num_med):\n",
    "        for i in range(num_trav):\n",
    "            for k in range(i):\n",
    "                \n",
    "                quadratic1[(f\"x_{i}_{j}\", f\"x_{k}_{j}\")] = 2 * A\n",
    "\n",
    "\n",
    "    #second constraint: Ensure that no knapsack’s capacity is exceeded\n",
    "    linear2 = {}\n",
    "    quadratic2 = {}\n",
    "\n",
    "    offset = 0\n",
    "    for i in range(num_trav):\n",
    "        ci = capacity[i]\n",
    "        for j, b in zip(range(num_med), range( int(np.floor( np.log2(ci) ) ))):\n",
    "            wj = weight[j]\n",
    "\n",
    "            linear2[f'x_{i}_{j}'] = (wj ** 2 - 2 * ci * wj) * B\n",
    "            linear2[f'y_{i}_{b}'] = (2 ** (2 * b) - ci * 2 ** (b + 1)) * B\n",
    "            quadratic2[(f'x_{i}', f'x_{j}')] = (wj * ( 2 ** (b + 1))) * B\n",
    "    \n",
    "        offset += (ci ** 2) * B\n",
    "\n",
    "\n",
    "    #third constraint: The objective term is formulated such that our \n",
    "    # original maximization objective function is converted to a \n",
    "    # minimization problem.\n",
    "\n",
    "    linear3 = {}\n",
    "    for i in range(num_med):\n",
    "\n",
    "        for j in range(N):\n",
    "            linear3[f'x_{i}_{j}'] = (-1 * values[i]) * C\n",
    "    \n",
    "        bqm.add_linear(linear2, 1)\n",
    "        bqm.add_linear(linear3, 1)\n",
    "        bqm.add_linear(quadratic1, 1)\n",
    "        bqm.add_linear(quadratic2, 1)\n",
    "        bqm.add_offset(offset, 1)\n",
    "    \n",
    "    return bqm\n",
    "\n",
    "    \n",
    "    \n",
    "\n",
    "\n",
    "\n"
   ]
  },
  {
   "cell_type": "code",
   "execution_count": 9,
   "metadata": {},
   "outputs": [
    {
     "ename": "TypeError",
     "evalue": "unhashable type: 'dict'",
     "output_type": "error",
     "traceback": [
      "\u001b[1;31m---------------------------------------------------------------------------\u001b[0m",
      "\u001b[1;31mTypeError\u001b[0m                                 Traceback (most recent call last)",
      "Cell \u001b[1;32mIn[9], line 4\u001b[0m\n\u001b[0;32m      1\u001b[0m N \u001b[38;5;241m=\u001b[39m \u001b[38;5;241m10\u001b[39m \u001b[38;5;66;03m#number of medicines\u001b[39;00m\n\u001b[0;32m      2\u001b[0m M \u001b[38;5;241m=\u001b[39m \u001b[38;5;241m3\u001b[39m \u001b[38;5;66;03m#number of travellers\u001b[39;00m\n\u001b[1;32m----> 4\u001b[0m bqm_form \u001b[38;5;241m=\u001b[39m \u001b[43mbqm_multiple_knapsack\u001b[49m\u001b[43m(\u001b[49m\u001b[43mnum_med\u001b[49m\u001b[38;5;241;43m=\u001b[39;49m\u001b[43m \u001b[49m\u001b[43mN\u001b[49m\u001b[43m,\u001b[49m\u001b[43m \u001b[49m\u001b[43mnum_trav\u001b[49m\u001b[38;5;241;43m=\u001b[39;49m\u001b[43mM\u001b[49m\u001b[43m)\u001b[49m\n\u001b[0;32m      6\u001b[0m sampleset \u001b[38;5;241m=\u001b[39m bqm_solver\u001b[38;5;241m.\u001b[39msample()\n\u001b[0;32m      8\u001b[0m \u001b[38;5;28mprint\u001b[39m(sampleset\u001b[38;5;241m.\u001b[39mfirst\u001b[38;5;241m.\u001b[39msample)\n",
      "Cell \u001b[1;32mIn[8], line 61\u001b[0m, in \u001b[0;36mbqm_multiple_knapsack\u001b[1;34m(num_med, num_trav, dataset, A, B, C)\u001b[0m\n\u001b[0;32m     58\u001b[0m \u001b[38;5;28;01mfor\u001b[39;00m j \u001b[38;5;129;01min\u001b[39;00m \u001b[38;5;28mrange\u001b[39m(N):\n\u001b[0;32m     59\u001b[0m     linear3[\u001b[38;5;124mf\u001b[39m\u001b[38;5;124m'\u001b[39m\u001b[38;5;124mx_\u001b[39m\u001b[38;5;132;01m{\u001b[39;00mi\u001b[38;5;132;01m}\u001b[39;00m\u001b[38;5;124m_\u001b[39m\u001b[38;5;132;01m{\u001b[39;00mj\u001b[38;5;132;01m}\u001b[39;00m\u001b[38;5;124m'\u001b[39m] \u001b[38;5;241m=\u001b[39m (\u001b[38;5;241m-\u001b[39m\u001b[38;5;241m1\u001b[39m \u001b[38;5;241m*\u001b[39m values[i]) \u001b[38;5;241m*\u001b[39m C\n\u001b[1;32m---> 61\u001b[0m \u001b[43mbqm\u001b[49m\u001b[38;5;241;43m.\u001b[39;49m\u001b[43madd_linear\u001b[49m\u001b[43m(\u001b[49m\u001b[43mlinear2\u001b[49m\u001b[43m,\u001b[49m\u001b[43m \u001b[49m\u001b[38;5;241;43m1\u001b[39;49m\u001b[43m)\u001b[49m\n\u001b[0;32m     62\u001b[0m bqm\u001b[38;5;241m.\u001b[39madd_linear(linear3, \u001b[38;5;241m1\u001b[39m)\n\u001b[0;32m     63\u001b[0m bqm\u001b[38;5;241m.\u001b[39madd_linear(quadratic1, \u001b[38;5;241m1\u001b[39m)\n",
      "File \u001b[1;32mc:\\Users\\Usuario\\AppData\\Local\\Programs\\Python\\Python312\\Lib\\site-packages\\dimod\\decorators.py:404\u001b[0m, in \u001b[0;36mforwarding_method.<locals>.wrapper\u001b[1;34m(obj, *args, **kwargs)\u001b[0m\n\u001b[0;32m    399\u001b[0m     \u001b[38;5;28;01mexcept\u001b[39;00m \u001b[38;5;167;01mTypeError\u001b[39;00m:\n\u001b[0;32m    400\u001b[0m         \u001b[38;5;28;01mraise\u001b[39;00m \u001b[38;5;167;01mTypeError\u001b[39;00m(\n\u001b[0;32m    401\u001b[0m             \u001b[38;5;124mf\u001b[39m\u001b[38;5;124m\"\u001b[39m\u001b[38;5;124mthe \u001b[39m\u001b[38;5;124m'\u001b[39m\u001b[38;5;124m__dict__\u001b[39m\u001b[38;5;124m'\u001b[39m\u001b[38;5;124m attribute of \u001b[39m\u001b[38;5;132;01m{\u001b[39;00m\u001b[38;5;28mtype\u001b[39m(obj)\u001b[38;5;241m.\u001b[39m\u001b[38;5;18m__name__\u001b[39m\u001b[38;5;132;01m!r}\u001b[39;00m\u001b[38;5;124m \u001b[39m\u001b[38;5;124m\"\u001b[39m\n\u001b[0;32m    402\u001b[0m             \u001b[38;5;124m\"\u001b[39m\u001b[38;5;124minstance does not support item assignment.\u001b[39m\u001b[38;5;124m\"\u001b[39m) \u001b[38;5;28;01mfrom\u001b[39;00m \u001b[38;5;28;01mNone\u001b[39;00m\n\u001b[1;32m--> 404\u001b[0m \u001b[38;5;28;01mreturn\u001b[39;00m \u001b[43mmethod\u001b[49m\u001b[43m(\u001b[49m\u001b[38;5;241;43m*\u001b[39;49m\u001b[43margs\u001b[49m\u001b[43m,\u001b[49m\u001b[43m \u001b[49m\u001b[38;5;241;43m*\u001b[39;49m\u001b[38;5;241;43m*\u001b[39;49m\u001b[43mkwargs\u001b[49m\u001b[43m)\u001b[49m\n",
      "File \u001b[1;32mc:\\Users\\Usuario\\AppData\\Local\\Programs\\Python\\Python312\\Lib\\site-packages\\dimod\\binary\\cybqm\\cybqm_template.pyx.pxi:126\u001b[0m, in \u001b[0;36mdimod.binary.cybqm.cybqm_float64.cyBQM_template.add_linear\u001b[1;34m()\u001b[0m\n",
      "File \u001b[1;32mc:\\Users\\Usuario\\AppData\\Local\\Programs\\Python\\Python312\\Lib\\site-packages\\dimod\\binary\\cybqm\\cybqm_template.pyx.pxi:117\u001b[0m, in \u001b[0;36mdimod.binary.cybqm.cybqm_float64.cyBQM_template._index\u001b[1;34m()\u001b[0m\n",
      "File \u001b[1;32mc:\\Users\\Usuario\\AppData\\Local\\Programs\\Python\\Python312\\Lib\\site-packages\\dimod\\cyvariables.pyx:372\u001b[0m, in \u001b[0;36mdimod.cyvariables.cyVariables.index\u001b[1;34m()\u001b[0m\n",
      "File \u001b[1;32mc:\\Users\\Usuario\\AppData\\Local\\Programs\\Python\\Python312\\Lib\\site-packages\\dimod\\cyvariables.pyx:372\u001b[0m, in \u001b[0;36mdimod.cyvariables.cyVariables.index\u001b[1;34m()\u001b[0m\n",
      "File \u001b[1;32mc:\\Users\\Usuario\\AppData\\Local\\Programs\\Python\\Python312\\Lib\\site-packages\\dimod\\cyvariables.pyx:392\u001b[0m, in \u001b[0;36mdimod.cyvariables.cyVariables.index\u001b[1;34m()\u001b[0m\n",
      "File \u001b[1;32mc:\\Users\\Usuario\\AppData\\Local\\Programs\\Python\\Python312\\Lib\\site-packages\\dimod\\cyvariables.pyx:97\u001b[0m, in \u001b[0;36mdimod.cyvariables.cyVariables._append\u001b[1;34m()\u001b[0m\n",
      "File \u001b[1;32mc:\\Users\\Usuario\\AppData\\Local\\Programs\\Python\\Python312\\Lib\\site-packages\\dimod\\cyvariables.pyx:97\u001b[0m, in \u001b[0;36mdimod.cyvariables.cyVariables._append\u001b[1;34m()\u001b[0m\n",
      "File \u001b[1;32mc:\\Users\\Usuario\\AppData\\Local\\Programs\\Python\\Python312\\Lib\\site-packages\\dimod\\cyvariables.pyx:143\u001b[0m, in \u001b[0;36mdimod.cyvariables.cyVariables._append\u001b[1;34m()\u001b[0m\n",
      "\u001b[1;31mTypeError\u001b[0m: unhashable type: 'dict'"
     ]
    }
   ],
   "source": [
    "N = 10 #number of medicines\n",
    "M = 3 #number of travellers\n",
    "\n",
    "bqm_form = bqm_multiple_knapsack(num_med= N, num_trav=M)\n",
    "\n",
    "sampleset = bqm_solver.sample()\n",
    "\n",
    "print(sampleset.first.sample)\n"
   ]
  },
  {
   "cell_type": "code",
   "execution_count": null,
   "metadata": {},
   "outputs": [],
   "source": []
  }
 ],
 "metadata": {
  "kernelspec": {
   "display_name": "Python 3",
   "language": "python",
   "name": "python3"
  },
  "language_info": {
   "codemirror_mode": {
    "name": "ipython",
    "version": 3
   },
   "file_extension": ".py",
   "mimetype": "text/x-python",
   "name": "python",
   "nbconvert_exporter": "python",
   "pygments_lexer": "ipython3",
   "version": "3.12.3"
  }
 },
 "nbformat": 4,
 "nbformat_minor": 2
}
