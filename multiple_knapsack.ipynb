{
 "cells": [
  {
   "cell_type": "code",
   "execution_count": 2,
   "metadata": {},
   "outputs": [],
   "source": [
    "\n",
    "import numpy as np\n",
    "from dwave.system import LeapHybridBQMSampler, LeapHybridCQMSampler\n",
    "from neal import SimulatedAnnealingSampler\n",
    "import pandas as pd\n"
   ]
  },
  {
   "cell_type": "code",
   "execution_count": 3,
   "metadata": {},
   "outputs": [],
   "source": [
    "bqm_solver = LeapHybridBQMSampler(token= 'DEV-bffc84fbc5334f436b32767dfbf3ea1ea603e152') #my id, change to give like a real imput when doing the real thing"
   ]
  },
  {
   "cell_type": "code",
   "execution_count": 4,
   "metadata": {},
   "outputs": [],
   "source": [
    "class Med:\n",
    "    # Constructor method to initialize the car with a make, model, and year\n",
    "    def __init__(self, value, weight):\n",
    "        self.value = value\n",
    "        self.weight = weight\n",
    "    \n",
    "    def give_ks(self):\n",
    "        return (self.value, self.weight)\n",
    "    \n",
    "    \n",
    "\n",
    "    "
   ]
  },
  {
   "cell_type": "code",
   "execution_count": 5,
   "metadata": {},
   "outputs": [],
   "source": [
    "\n",
    "dataset = {'sleepaid': Med(100, 4),\n",
    "            'retinol': Med(200, 5),\n",
    "            'Aspirin': Med(250, 3),\n",
    "            'Imuran': Med(1000, 5),\n",
    "            \"Liver albumin\" : Med(924, 7),\n",
    "            \"Acitretin Capsules\" : Med(200, 5),\n",
    "            \"Tretinon\" : Med(230, 9)}\n",
    "\n",
    "\n",
    "values = [dataset[d].value for d in dataset.keys()] \n",
    "weight = [dataset[d].weight for d in dataset.keys()] \n",
    "\n",
    "v= pd.DataFrame(values)\n",
    "w= pd.DataFrame(weight)\n",
    "\n"
   ]
  },
  {
   "cell_type": "code",
   "execution_count": 12,
   "metadata": {},
   "outputs": [],
   "source": [
    "\n",
    "#j in 0, 1, ..., N-1\n",
    "#wj = weight, vj = value || j\n",
    "\n",
    "# i in 0, 1, 2, ... M-1\n",
    "# ci = capacity of the ies knapsack\n",
    "#x_{i, j} = 1 if j is assigned to i\n",
    "from dimod import BQM\n",
    "\n",
    "def bqm_multiple_knapsack(num_med, num_trav, dataset=None, A = 2, B = 2, C= 2):\n",
    "    if not dataset:\n",
    "        weight = [i for i in range(num_med)]\n",
    "        values = [3 * i for i in range(num_trav)]\n",
    "\n",
    "        dataset = {'sleepaid': Med(100, 4),\n",
    "            'retinol': Med(200, 5),\n",
    "            'Aspirin': Med(250, 3),\n",
    "            'Imuran': Med(1000, 5),\n",
    "            \"Liver albumin\" : Med(924, 7),\n",
    "            \"Acitretin Capsules\" : Med(200, 5),\n",
    "            \"Tretinon\" : Med(230, 9)}\n",
    "\n",
    "\n",
    "        #values = [dataset[d].value for d in dataset.keys()] \n",
    "        #weight = [dataset[d].weight for d in dataset.keys()] \n",
    "        \n",
    "        capacity = [4 * j + 5 for j in range(num_trav)]\n",
    "    \n",
    "    else:\n",
    "        #fill this\n",
    "        pass\n",
    "\n",
    "\n",
    "    #for formulate the QUBO instance\n",
    "\n",
    "    #first Constraint: Any item j can be assigned to at most one knapsack. \n",
    "    # It is possible that an item is not assigned to any knapsack.\n",
    "    \n",
    "    bqm = BQM('BINARY')\n",
    "    \n",
    "    quadratic1 = {} \n",
    "\n",
    "    for j in range(num_med):\n",
    "        for i in range(num_trav):\n",
    "            for k in range(i):\n",
    "                \n",
    "                quadratic1[(f\"x_{i}_{j}\", f\"x_{k}_{j}\")] = 2 * A\n",
    "\n",
    "\n",
    "    #second constraint: Ensure that no knapsack’s capacity is exceeded\n",
    "    linear2 = {}\n",
    "    quadratic2 = {}\n",
    "\n",
    "    offset = 0\n",
    "    for i in range(num_trav):\n",
    "        ci = capacity[i]\n",
    "        for j, b in zip(range(num_med), range( int(np.floor( np.log2(ci) ) ))):\n",
    "            wj = weight[j]\n",
    "\n",
    "            linear2[f'x_{i}_{j}'] = (wj ** 2 - 2 * ci * wj) * B\n",
    "            linear2[f'y_{i}_{b}'] = (2 ** (2 * b) - ci * 2 ** (b + 1)) * B\n",
    "            if i != j:\n",
    "                quadratic2[(f'x_{i}', f'x_{j}')] = (wj * ( 2 ** (b + 1))) * B\n",
    "    \n",
    "        offset += (ci ** 2) * B\n",
    "\n",
    "\n",
    "    #third constraint: The objective term is formulated such that our \n",
    "    # original maximization objective function is converted to a \n",
    "    # minimization problem.\n",
    "\n",
    "    linear3 = {}\n",
    "    for i in range(num_trav):\n",
    "\n",
    "        for j in range(num_med):\n",
    "            linear3[f'x_{i}_{j}'] = (-1 * values[i]) * C\n",
    "    \n",
    "    bqm.add_linear_from(linear2)\n",
    "    bqm.add_linear_from(linear3)\n",
    "    bqm.add_quadratic_from(quadratic1)\n",
    "    bqm.add_quadratic_from(quadratic2)\n",
    "    bqm.add_offset(offset)\n",
    "    \n",
    "    return bqm\n",
    "\n",
    "    \n",
    "    \n",
    "\n",
    "\n",
    "\n"
   ]
  },
  {
   "cell_type": "code",
   "execution_count": 13,
   "metadata": {},
   "outputs": [
    {
     "name": "stderr",
     "output_type": "stream",
     "text": [
      "C:\\Users\\Usuario\\AppData\\Local\\Temp\\ipykernel_14784\\290279768.py:81: DeprecationWarning: BinaryQuadraticModel.add_offset(bias) is deprecated since dimod 0.10.0 and will be removed in 0.12.0. Please use bqm.offset += bias.\n",
      "  bqm.add_offset(offset)\n"
     ]
    },
    {
     "name": "stdout",
     "output_type": "stream",
     "text": [
      "{'x_0': 1, 'x_0_0': 0, 'x_0_1': 1, 'x_0_2': 0, 'x_0_3': 0, 'x_0_4': 0, 'x_0_5': 0, 'x_0_6': 0, 'x_0_7': 0, 'x_0_8': 0, 'x_0_9': 0, 'x_1': 0, 'x_1_0': 1, 'x_1_1': 1, 'x_1_2': 1, 'x_1_3': 1, 'x_1_4': 1, 'x_1_5': 1, 'x_1_6': 1, 'x_1_7': 1, 'x_1_8': 1, 'x_1_9': 1, 'x_2': 1, 'x_2_0': 1, 'x_2_1': 1, 'x_2_2': 1, 'x_2_3': 1, 'x_2_4': 1, 'x_2_5': 1, 'x_2_6': 1, 'x_2_7': 1, 'x_2_8': 1, 'x_2_9': 1, 'y_0_0': 1, 'y_0_1': 1, 'y_1_0': 1, 'y_1_1': 1, 'y_1_2': 1, 'y_2_0': 1, 'y_2_1': 1, 'y_2_2': 1}\n"
     ]
    }
   ],
   "source": [
    "N = 10 #number of medicines\n",
    "M = 3 #number of travellers\n",
    "\n",
    "bqm_form = bqm_multiple_knapsack(num_med= N, num_trav=M)\n",
    "\n",
    "sampleset = bqm_solver.sample(bqm_form)\n",
    "\n",
    "print(sampleset.first.sample)\n"
   ]
  },
  {
   "cell_type": "markdown",
   "metadata": {},
   "source": [
    "this is read as it follows:\n",
    "0 traveler packs up medicine 1\n",
    "1 traveler packs up med [0 to 9]\n",
    "2 traveler packs up med [0 to 9]"
   ]
  },
  {
   "cell_type": "code",
   "execution_count": null,
   "metadata": {},
   "outputs": [],
   "source": []
  }
 ],
 "metadata": {
  "kernelspec": {
   "display_name": "Python 3",
   "language": "python",
   "name": "python3"
  },
  "language_info": {
   "codemirror_mode": {
    "name": "ipython",
    "version": 3
   },
   "file_extension": ".py",
   "mimetype": "text/x-python",
   "name": "python",
   "nbconvert_exporter": "python",
   "pygments_lexer": "ipython3",
   "version": "3.12.3"
  }
 },
 "nbformat": 4,
 "nbformat_minor": 2
}
