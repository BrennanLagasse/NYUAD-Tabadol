{
 "cells": [
  {
   "cell_type": "code",
   "execution_count": 33,
   "metadata": {},
   "outputs": [],
   "source": [
    "from dimod import (\n",
    "    Binary,\n",
    "    BinaryQuadraticModel,\n",
    "    ConstrainedQuadraticModel,\n",
    "    quicksum,\n",
    ")\n",
    "\n",
    "from dwave.system import LeapHybridCQMSampler\n",
    "\n",
    "import random\n",
    "import pandas as pd"
   ]
  },
  {
   "cell_type": "code",
   "execution_count": 34,
   "metadata": {},
   "outputs": [],
   "source": [
    "def build_vrp_cqm(num_locations, distances, num_vehicles):\n",
    "    \"\"\"\n",
    "    Input:\n",
    "        num_locations: number of distinct locations for orders\n",
    "        distances: an matrix with the distances between respective locations for a fully connected graph\n",
    "        num_vehicles: the number of vehicles used\n",
    "    \"\"\"\n",
    "\n",
    "    M = num_vehicles\n",
    "    N = num_locations\n",
    "\n",
    "    cqm = ConstrainedQuadraticModel()\n",
    "\n",
    "    # Create all the variables: one for each vehicle/location/position combo\n",
    "    # k is position, j is vertex, i is vehicle\n",
    "    x = {(i, j, k): Binary(str(i) + \"_\" + str(j) + \"_\" + str(k)) for k in range(N+1) for j in range(N+1) for i in range(M)}\n",
    "\n",
    "    print(f\"{x}\\n\")\n",
    "\n",
    "    # Define the unconstrained binary optimization problem\n",
    "    obj = BinaryQuadraticModel(vartype=\"BINARY\")\n",
    "\n",
    "    # The cost of going from the depot to the first stop\n",
    "    for m in range(M):\n",
    "        for n in range(N):\n",
    "            obj += x[m, n, 1] * distances[N][n]\n",
    "\n",
    "    # The cost of going from the last stop to the depot in the case of one vehicle (vanishes otherwise)\n",
    "    for m in range(M):\n",
    "        for n in range(N):\n",
    "            obj += x[m, n, N] * distances[N][n]\n",
    "\n",
    "    # The cost of going from the first stop to all others and back to the depot\n",
    "    for m in range(M):\n",
    "        for n in range(N-1):\n",
    "            for i in range(N+1):\n",
    "                for j in range(N+1):\n",
    "                    obj += x[m, i, n] * x[m, j, n + 1] * distances[i][j]\n",
    "\n",
    "    cqm.set_objective(obj)\n",
    "\n",
    "    # Implement constraints:\n",
    "\n",
    "    # 1. Each location should be served by exactly one vehicle\n",
    "    for j in range(N):\n",
    "\n",
    "        sum = 0\n",
    "\n",
    "        for m in range(M):\n",
    "            for k in range(N+1):\n",
    "                sum += x[m, j, k]\n",
    "\n",
    "        cqm.add_constraint(sum == 1,\n",
    "                           label=f\"Vertex {j} is not visited or visited more than once\")\n",
    "\n",
    "    # 2. Each vehicle is in one place at one time\n",
    "    for i in range(M):\n",
    "        for k in range(N+1):\n",
    "\n",
    "            sum = 0\n",
    "\n",
    "            for j in range(N + 1):\n",
    "                sum += x[i, j, k]\n",
    "            \n",
    "            cqm.add_constraint(sum == 1,\n",
    "                               label=f\"Vehicle {i} is at more or less than one position at time {k}\")\n",
    "            \n",
    "    # Return the constrained optimization solution\n",
    "    return cqm\n",
    "            \n",
    "\n",
    "def run_cqm(cqm):\n",
    "    \"\"\"Run the provided CQM on the Leap Hybrid CQM Sampler.\"\"\"\n",
    "    sampler = LeapHybridCQMSampler(token=\"DEV-7a13065bb40813db4f53d6af8d005e3598588034\")\n",
    "\n",
    "    sampleset = sampler.sample_cqm(cqm)\n",
    "    feasible_sampleset = sampleset.filter(lambda row: row.is_feasible)\n",
    "\n",
    "    num_feasible = len(feasible_sampleset)\n",
    "    errors = \" \"\n",
    "    if num_feasible == 0:\n",
    "        msg = \"\\nNo feasible solution found.\\n\"\n",
    "        errors += msg\n",
    "        print(msg)\n",
    "        sat_array = sampleset.first.is_satisfied\n",
    "\n",
    "        # if sampleset is all 0's, set at least one variable to 1 \n",
    "        # --> this is needed for \"Solve CQM\" button to function propertly\n",
    "        s_vals = set(sampleset.first.sample.values())\n",
    "        if s_vals == {0.0}:\n",
    "            sampleset.first.sample[list(cqm.variables)[0]] = 1.0\n",
    "\n",
    "        constraints = sampleset.info[\"constraint_labels\"]\n",
    "\n",
    "        print(constraints)\n",
    "       \n",
    "        return sampleset, errors\n",
    "\n",
    "    print(\"\\nFeasible solution found.\\n\")\n",
    "\n",
    "    return feasible_sampleset, None"
   ]
  },
  {
   "cell_type": "code",
   "execution_count": 35,
   "metadata": {},
   "outputs": [
    {
     "name": "stdout",
     "output_type": "stream",
     "text": [
      "{(0, 0, 0): BinaryQuadraticModel({'0_0_0': 1.0}, {}, 0.0, 'BINARY'), (1, 0, 0): BinaryQuadraticModel({'1_0_0': 1.0}, {}, 0.0, 'BINARY'), (0, 1, 0): BinaryQuadraticModel({'0_1_0': 1.0}, {}, 0.0, 'BINARY'), (1, 1, 0): BinaryQuadraticModel({'1_1_0': 1.0}, {}, 0.0, 'BINARY'), (0, 2, 0): BinaryQuadraticModel({'0_2_0': 1.0}, {}, 0.0, 'BINARY'), (1, 2, 0): BinaryQuadraticModel({'1_2_0': 1.0}, {}, 0.0, 'BINARY'), (0, 3, 0): BinaryQuadraticModel({'0_3_0': 1.0}, {}, 0.0, 'BINARY'), (1, 3, 0): BinaryQuadraticModel({'1_3_0': 1.0}, {}, 0.0, 'BINARY'), (0, 4, 0): BinaryQuadraticModel({'0_4_0': 1.0}, {}, 0.0, 'BINARY'), (1, 4, 0): BinaryQuadraticModel({'1_4_0': 1.0}, {}, 0.0, 'BINARY'), (0, 5, 0): BinaryQuadraticModel({'0_5_0': 1.0}, {}, 0.0, 'BINARY'), (1, 5, 0): BinaryQuadraticModel({'1_5_0': 1.0}, {}, 0.0, 'BINARY'), (0, 6, 0): BinaryQuadraticModel({'0_6_0': 1.0}, {}, 0.0, 'BINARY'), (1, 6, 0): BinaryQuadraticModel({'1_6_0': 1.0}, {}, 0.0, 'BINARY'), (0, 7, 0): BinaryQuadraticModel({'0_7_0': 1.0}, {}, 0.0, 'BINARY'), (1, 7, 0): BinaryQuadraticModel({'1_7_0': 1.0}, {}, 0.0, 'BINARY'), (0, 8, 0): BinaryQuadraticModel({'0_8_0': 1.0}, {}, 0.0, 'BINARY'), (1, 8, 0): BinaryQuadraticModel({'1_8_0': 1.0}, {}, 0.0, 'BINARY'), (0, 9, 0): BinaryQuadraticModel({'0_9_0': 1.0}, {}, 0.0, 'BINARY'), (1, 9, 0): BinaryQuadraticModel({'1_9_0': 1.0}, {}, 0.0, 'BINARY'), (0, 10, 0): BinaryQuadraticModel({'0_10_0': 1.0}, {}, 0.0, 'BINARY'), (1, 10, 0): BinaryQuadraticModel({'1_10_0': 1.0}, {}, 0.0, 'BINARY'), (0, 0, 1): BinaryQuadraticModel({'0_0_1': 1.0}, {}, 0.0, 'BINARY'), (1, 0, 1): BinaryQuadraticModel({'1_0_1': 1.0}, {}, 0.0, 'BINARY'), (0, 1, 1): BinaryQuadraticModel({'0_1_1': 1.0}, {}, 0.0, 'BINARY'), (1, 1, 1): BinaryQuadraticModel({'1_1_1': 1.0}, {}, 0.0, 'BINARY'), (0, 2, 1): BinaryQuadraticModel({'0_2_1': 1.0}, {}, 0.0, 'BINARY'), (1, 2, 1): BinaryQuadraticModel({'1_2_1': 1.0}, {}, 0.0, 'BINARY'), (0, 3, 1): BinaryQuadraticModel({'0_3_1': 1.0}, {}, 0.0, 'BINARY'), (1, 3, 1): BinaryQuadraticModel({'1_3_1': 1.0}, {}, 0.0, 'BINARY'), (0, 4, 1): BinaryQuadraticModel({'0_4_1': 1.0}, {}, 0.0, 'BINARY'), (1, 4, 1): BinaryQuadraticModel({'1_4_1': 1.0}, {}, 0.0, 'BINARY'), (0, 5, 1): BinaryQuadraticModel({'0_5_1': 1.0}, {}, 0.0, 'BINARY'), (1, 5, 1): BinaryQuadraticModel({'1_5_1': 1.0}, {}, 0.0, 'BINARY'), (0, 6, 1): BinaryQuadraticModel({'0_6_1': 1.0}, {}, 0.0, 'BINARY'), (1, 6, 1): BinaryQuadraticModel({'1_6_1': 1.0}, {}, 0.0, 'BINARY'), (0, 7, 1): BinaryQuadraticModel({'0_7_1': 1.0}, {}, 0.0, 'BINARY'), (1, 7, 1): BinaryQuadraticModel({'1_7_1': 1.0}, {}, 0.0, 'BINARY'), (0, 8, 1): BinaryQuadraticModel({'0_8_1': 1.0}, {}, 0.0, 'BINARY'), (1, 8, 1): BinaryQuadraticModel({'1_8_1': 1.0}, {}, 0.0, 'BINARY'), (0, 9, 1): BinaryQuadraticModel({'0_9_1': 1.0}, {}, 0.0, 'BINARY'), (1, 9, 1): BinaryQuadraticModel({'1_9_1': 1.0}, {}, 0.0, 'BINARY'), (0, 10, 1): BinaryQuadraticModel({'0_10_1': 1.0}, {}, 0.0, 'BINARY'), (1, 10, 1): BinaryQuadraticModel({'1_10_1': 1.0}, {}, 0.0, 'BINARY'), (0, 0, 2): BinaryQuadraticModel({'0_0_2': 1.0}, {}, 0.0, 'BINARY'), (1, 0, 2): BinaryQuadraticModel({'1_0_2': 1.0}, {}, 0.0, 'BINARY'), (0, 1, 2): BinaryQuadraticModel({'0_1_2': 1.0}, {}, 0.0, 'BINARY'), (1, 1, 2): BinaryQuadraticModel({'1_1_2': 1.0}, {}, 0.0, 'BINARY'), (0, 2, 2): BinaryQuadraticModel({'0_2_2': 1.0}, {}, 0.0, 'BINARY'), (1, 2, 2): BinaryQuadraticModel({'1_2_2': 1.0}, {}, 0.0, 'BINARY'), (0, 3, 2): BinaryQuadraticModel({'0_3_2': 1.0}, {}, 0.0, 'BINARY'), (1, 3, 2): BinaryQuadraticModel({'1_3_2': 1.0}, {}, 0.0, 'BINARY'), (0, 4, 2): BinaryQuadraticModel({'0_4_2': 1.0}, {}, 0.0, 'BINARY'), (1, 4, 2): BinaryQuadraticModel({'1_4_2': 1.0}, {}, 0.0, 'BINARY'), (0, 5, 2): BinaryQuadraticModel({'0_5_2': 1.0}, {}, 0.0, 'BINARY'), (1, 5, 2): BinaryQuadraticModel({'1_5_2': 1.0}, {}, 0.0, 'BINARY'), (0, 6, 2): BinaryQuadraticModel({'0_6_2': 1.0}, {}, 0.0, 'BINARY'), (1, 6, 2): BinaryQuadraticModel({'1_6_2': 1.0}, {}, 0.0, 'BINARY'), (0, 7, 2): BinaryQuadraticModel({'0_7_2': 1.0}, {}, 0.0, 'BINARY'), (1, 7, 2): BinaryQuadraticModel({'1_7_2': 1.0}, {}, 0.0, 'BINARY'), (0, 8, 2): BinaryQuadraticModel({'0_8_2': 1.0}, {}, 0.0, 'BINARY'), (1, 8, 2): BinaryQuadraticModel({'1_8_2': 1.0}, {}, 0.0, 'BINARY'), (0, 9, 2): BinaryQuadraticModel({'0_9_2': 1.0}, {}, 0.0, 'BINARY'), (1, 9, 2): BinaryQuadraticModel({'1_9_2': 1.0}, {}, 0.0, 'BINARY'), (0, 10, 2): BinaryQuadraticModel({'0_10_2': 1.0}, {}, 0.0, 'BINARY'), (1, 10, 2): BinaryQuadraticModel({'1_10_2': 1.0}, {}, 0.0, 'BINARY'), (0, 0, 3): BinaryQuadraticModel({'0_0_3': 1.0}, {}, 0.0, 'BINARY'), (1, 0, 3): BinaryQuadraticModel({'1_0_3': 1.0}, {}, 0.0, 'BINARY'), (0, 1, 3): BinaryQuadraticModel({'0_1_3': 1.0}, {}, 0.0, 'BINARY'), (1, 1, 3): BinaryQuadraticModel({'1_1_3': 1.0}, {}, 0.0, 'BINARY'), (0, 2, 3): BinaryQuadraticModel({'0_2_3': 1.0}, {}, 0.0, 'BINARY'), (1, 2, 3): BinaryQuadraticModel({'1_2_3': 1.0}, {}, 0.0, 'BINARY'), (0, 3, 3): BinaryQuadraticModel({'0_3_3': 1.0}, {}, 0.0, 'BINARY'), (1, 3, 3): BinaryQuadraticModel({'1_3_3': 1.0}, {}, 0.0, 'BINARY'), (0, 4, 3): BinaryQuadraticModel({'0_4_3': 1.0}, {}, 0.0, 'BINARY'), (1, 4, 3): BinaryQuadraticModel({'1_4_3': 1.0}, {}, 0.0, 'BINARY'), (0, 5, 3): BinaryQuadraticModel({'0_5_3': 1.0}, {}, 0.0, 'BINARY'), (1, 5, 3): BinaryQuadraticModel({'1_5_3': 1.0}, {}, 0.0, 'BINARY'), (0, 6, 3): BinaryQuadraticModel({'0_6_3': 1.0}, {}, 0.0, 'BINARY'), (1, 6, 3): BinaryQuadraticModel({'1_6_3': 1.0}, {}, 0.0, 'BINARY'), (0, 7, 3): BinaryQuadraticModel({'0_7_3': 1.0}, {}, 0.0, 'BINARY'), (1, 7, 3): BinaryQuadraticModel({'1_7_3': 1.0}, {}, 0.0, 'BINARY'), (0, 8, 3): BinaryQuadraticModel({'0_8_3': 1.0}, {}, 0.0, 'BINARY'), (1, 8, 3): BinaryQuadraticModel({'1_8_3': 1.0}, {}, 0.0, 'BINARY'), (0, 9, 3): BinaryQuadraticModel({'0_9_3': 1.0}, {}, 0.0, 'BINARY'), (1, 9, 3): BinaryQuadraticModel({'1_9_3': 1.0}, {}, 0.0, 'BINARY'), (0, 10, 3): BinaryQuadraticModel({'0_10_3': 1.0}, {}, 0.0, 'BINARY'), (1, 10, 3): BinaryQuadraticModel({'1_10_3': 1.0}, {}, 0.0, 'BINARY'), (0, 0, 4): BinaryQuadraticModel({'0_0_4': 1.0}, {}, 0.0, 'BINARY'), (1, 0, 4): BinaryQuadraticModel({'1_0_4': 1.0}, {}, 0.0, 'BINARY'), (0, 1, 4): BinaryQuadraticModel({'0_1_4': 1.0}, {}, 0.0, 'BINARY'), (1, 1, 4): BinaryQuadraticModel({'1_1_4': 1.0}, {}, 0.0, 'BINARY'), (0, 2, 4): BinaryQuadraticModel({'0_2_4': 1.0}, {}, 0.0, 'BINARY'), (1, 2, 4): BinaryQuadraticModel({'1_2_4': 1.0}, {}, 0.0, 'BINARY'), (0, 3, 4): BinaryQuadraticModel({'0_3_4': 1.0}, {}, 0.0, 'BINARY'), (1, 3, 4): BinaryQuadraticModel({'1_3_4': 1.0}, {}, 0.0, 'BINARY'), (0, 4, 4): BinaryQuadraticModel({'0_4_4': 1.0}, {}, 0.0, 'BINARY'), (1, 4, 4): BinaryQuadraticModel({'1_4_4': 1.0}, {}, 0.0, 'BINARY'), (0, 5, 4): BinaryQuadraticModel({'0_5_4': 1.0}, {}, 0.0, 'BINARY'), (1, 5, 4): BinaryQuadraticModel({'1_5_4': 1.0}, {}, 0.0, 'BINARY'), (0, 6, 4): BinaryQuadraticModel({'0_6_4': 1.0}, {}, 0.0, 'BINARY'), (1, 6, 4): BinaryQuadraticModel({'1_6_4': 1.0}, {}, 0.0, 'BINARY'), (0, 7, 4): BinaryQuadraticModel({'0_7_4': 1.0}, {}, 0.0, 'BINARY'), (1, 7, 4): BinaryQuadraticModel({'1_7_4': 1.0}, {}, 0.0, 'BINARY'), (0, 8, 4): BinaryQuadraticModel({'0_8_4': 1.0}, {}, 0.0, 'BINARY'), (1, 8, 4): BinaryQuadraticModel({'1_8_4': 1.0}, {}, 0.0, 'BINARY'), (0, 9, 4): BinaryQuadraticModel({'0_9_4': 1.0}, {}, 0.0, 'BINARY'), (1, 9, 4): BinaryQuadraticModel({'1_9_4': 1.0}, {}, 0.0, 'BINARY'), (0, 10, 4): BinaryQuadraticModel({'0_10_4': 1.0}, {}, 0.0, 'BINARY'), (1, 10, 4): BinaryQuadraticModel({'1_10_4': 1.0}, {}, 0.0, 'BINARY'), (0, 0, 5): BinaryQuadraticModel({'0_0_5': 1.0}, {}, 0.0, 'BINARY'), (1, 0, 5): BinaryQuadraticModel({'1_0_5': 1.0}, {}, 0.0, 'BINARY'), (0, 1, 5): BinaryQuadraticModel({'0_1_5': 1.0}, {}, 0.0, 'BINARY'), (1, 1, 5): BinaryQuadraticModel({'1_1_5': 1.0}, {}, 0.0, 'BINARY'), (0, 2, 5): BinaryQuadraticModel({'0_2_5': 1.0}, {}, 0.0, 'BINARY'), (1, 2, 5): BinaryQuadraticModel({'1_2_5': 1.0}, {}, 0.0, 'BINARY'), (0, 3, 5): BinaryQuadraticModel({'0_3_5': 1.0}, {}, 0.0, 'BINARY'), (1, 3, 5): BinaryQuadraticModel({'1_3_5': 1.0}, {}, 0.0, 'BINARY'), (0, 4, 5): BinaryQuadraticModel({'0_4_5': 1.0}, {}, 0.0, 'BINARY'), (1, 4, 5): BinaryQuadraticModel({'1_4_5': 1.0}, {}, 0.0, 'BINARY'), (0, 5, 5): BinaryQuadraticModel({'0_5_5': 1.0}, {}, 0.0, 'BINARY'), (1, 5, 5): BinaryQuadraticModel({'1_5_5': 1.0}, {}, 0.0, 'BINARY'), (0, 6, 5): BinaryQuadraticModel({'0_6_5': 1.0}, {}, 0.0, 'BINARY'), (1, 6, 5): BinaryQuadraticModel({'1_6_5': 1.0}, {}, 0.0, 'BINARY'), (0, 7, 5): BinaryQuadraticModel({'0_7_5': 1.0}, {}, 0.0, 'BINARY'), (1, 7, 5): BinaryQuadraticModel({'1_7_5': 1.0}, {}, 0.0, 'BINARY'), (0, 8, 5): BinaryQuadraticModel({'0_8_5': 1.0}, {}, 0.0, 'BINARY'), (1, 8, 5): BinaryQuadraticModel({'1_8_5': 1.0}, {}, 0.0, 'BINARY'), (0, 9, 5): BinaryQuadraticModel({'0_9_5': 1.0}, {}, 0.0, 'BINARY'), (1, 9, 5): BinaryQuadraticModel({'1_9_5': 1.0}, {}, 0.0, 'BINARY'), (0, 10, 5): BinaryQuadraticModel({'0_10_5': 1.0}, {}, 0.0, 'BINARY'), (1, 10, 5): BinaryQuadraticModel({'1_10_5': 1.0}, {}, 0.0, 'BINARY'), (0, 0, 6): BinaryQuadraticModel({'0_0_6': 1.0}, {}, 0.0, 'BINARY'), (1, 0, 6): BinaryQuadraticModel({'1_0_6': 1.0}, {}, 0.0, 'BINARY'), (0, 1, 6): BinaryQuadraticModel({'0_1_6': 1.0}, {}, 0.0, 'BINARY'), (1, 1, 6): BinaryQuadraticModel({'1_1_6': 1.0}, {}, 0.0, 'BINARY'), (0, 2, 6): BinaryQuadraticModel({'0_2_6': 1.0}, {}, 0.0, 'BINARY'), (1, 2, 6): BinaryQuadraticModel({'1_2_6': 1.0}, {}, 0.0, 'BINARY'), (0, 3, 6): BinaryQuadraticModel({'0_3_6': 1.0}, {}, 0.0, 'BINARY'), (1, 3, 6): BinaryQuadraticModel({'1_3_6': 1.0}, {}, 0.0, 'BINARY'), (0, 4, 6): BinaryQuadraticModel({'0_4_6': 1.0}, {}, 0.0, 'BINARY'), (1, 4, 6): BinaryQuadraticModel({'1_4_6': 1.0}, {}, 0.0, 'BINARY'), (0, 5, 6): BinaryQuadraticModel({'0_5_6': 1.0}, {}, 0.0, 'BINARY'), (1, 5, 6): BinaryQuadraticModel({'1_5_6': 1.0}, {}, 0.0, 'BINARY'), (0, 6, 6): BinaryQuadraticModel({'0_6_6': 1.0}, {}, 0.0, 'BINARY'), (1, 6, 6): BinaryQuadraticModel({'1_6_6': 1.0}, {}, 0.0, 'BINARY'), (0, 7, 6): BinaryQuadraticModel({'0_7_6': 1.0}, {}, 0.0, 'BINARY'), (1, 7, 6): BinaryQuadraticModel({'1_7_6': 1.0}, {}, 0.0, 'BINARY'), (0, 8, 6): BinaryQuadraticModel({'0_8_6': 1.0}, {}, 0.0, 'BINARY'), (1, 8, 6): BinaryQuadraticModel({'1_8_6': 1.0}, {}, 0.0, 'BINARY'), (0, 9, 6): BinaryQuadraticModel({'0_9_6': 1.0}, {}, 0.0, 'BINARY'), (1, 9, 6): BinaryQuadraticModel({'1_9_6': 1.0}, {}, 0.0, 'BINARY'), (0, 10, 6): BinaryQuadraticModel({'0_10_6': 1.0}, {}, 0.0, 'BINARY'), (1, 10, 6): BinaryQuadraticModel({'1_10_6': 1.0}, {}, 0.0, 'BINARY'), (0, 0, 7): BinaryQuadraticModel({'0_0_7': 1.0}, {}, 0.0, 'BINARY'), (1, 0, 7): BinaryQuadraticModel({'1_0_7': 1.0}, {}, 0.0, 'BINARY'), (0, 1, 7): BinaryQuadraticModel({'0_1_7': 1.0}, {}, 0.0, 'BINARY'), (1, 1, 7): BinaryQuadraticModel({'1_1_7': 1.0}, {}, 0.0, 'BINARY'), (0, 2, 7): BinaryQuadraticModel({'0_2_7': 1.0}, {}, 0.0, 'BINARY'), (1, 2, 7): BinaryQuadraticModel({'1_2_7': 1.0}, {}, 0.0, 'BINARY'), (0, 3, 7): BinaryQuadraticModel({'0_3_7': 1.0}, {}, 0.0, 'BINARY'), (1, 3, 7): BinaryQuadraticModel({'1_3_7': 1.0}, {}, 0.0, 'BINARY'), (0, 4, 7): BinaryQuadraticModel({'0_4_7': 1.0}, {}, 0.0, 'BINARY'), (1, 4, 7): BinaryQuadraticModel({'1_4_7': 1.0}, {}, 0.0, 'BINARY'), (0, 5, 7): BinaryQuadraticModel({'0_5_7': 1.0}, {}, 0.0, 'BINARY'), (1, 5, 7): BinaryQuadraticModel({'1_5_7': 1.0}, {}, 0.0, 'BINARY'), (0, 6, 7): BinaryQuadraticModel({'0_6_7': 1.0}, {}, 0.0, 'BINARY'), (1, 6, 7): BinaryQuadraticModel({'1_6_7': 1.0}, {}, 0.0, 'BINARY'), (0, 7, 7): BinaryQuadraticModel({'0_7_7': 1.0}, {}, 0.0, 'BINARY'), (1, 7, 7): BinaryQuadraticModel({'1_7_7': 1.0}, {}, 0.0, 'BINARY'), (0, 8, 7): BinaryQuadraticModel({'0_8_7': 1.0}, {}, 0.0, 'BINARY'), (1, 8, 7): BinaryQuadraticModel({'1_8_7': 1.0}, {}, 0.0, 'BINARY'), (0, 9, 7): BinaryQuadraticModel({'0_9_7': 1.0}, {}, 0.0, 'BINARY'), (1, 9, 7): BinaryQuadraticModel({'1_9_7': 1.0}, {}, 0.0, 'BINARY'), (0, 10, 7): BinaryQuadraticModel({'0_10_7': 1.0}, {}, 0.0, 'BINARY'), (1, 10, 7): BinaryQuadraticModel({'1_10_7': 1.0}, {}, 0.0, 'BINARY'), (0, 0, 8): BinaryQuadraticModel({'0_0_8': 1.0}, {}, 0.0, 'BINARY'), (1, 0, 8): BinaryQuadraticModel({'1_0_8': 1.0}, {}, 0.0, 'BINARY'), (0, 1, 8): BinaryQuadraticModel({'0_1_8': 1.0}, {}, 0.0, 'BINARY'), (1, 1, 8): BinaryQuadraticModel({'1_1_8': 1.0}, {}, 0.0, 'BINARY'), (0, 2, 8): BinaryQuadraticModel({'0_2_8': 1.0}, {}, 0.0, 'BINARY'), (1, 2, 8): BinaryQuadraticModel({'1_2_8': 1.0}, {}, 0.0, 'BINARY'), (0, 3, 8): BinaryQuadraticModel({'0_3_8': 1.0}, {}, 0.0, 'BINARY'), (1, 3, 8): BinaryQuadraticModel({'1_3_8': 1.0}, {}, 0.0, 'BINARY'), (0, 4, 8): BinaryQuadraticModel({'0_4_8': 1.0}, {}, 0.0, 'BINARY'), (1, 4, 8): BinaryQuadraticModel({'1_4_8': 1.0}, {}, 0.0, 'BINARY'), (0, 5, 8): BinaryQuadraticModel({'0_5_8': 1.0}, {}, 0.0, 'BINARY'), (1, 5, 8): BinaryQuadraticModel({'1_5_8': 1.0}, {}, 0.0, 'BINARY'), (0, 6, 8): BinaryQuadraticModel({'0_6_8': 1.0}, {}, 0.0, 'BINARY'), (1, 6, 8): BinaryQuadraticModel({'1_6_8': 1.0}, {}, 0.0, 'BINARY'), (0, 7, 8): BinaryQuadraticModel({'0_7_8': 1.0}, {}, 0.0, 'BINARY'), (1, 7, 8): BinaryQuadraticModel({'1_7_8': 1.0}, {}, 0.0, 'BINARY'), (0, 8, 8): BinaryQuadraticModel({'0_8_8': 1.0}, {}, 0.0, 'BINARY'), (1, 8, 8): BinaryQuadraticModel({'1_8_8': 1.0}, {}, 0.0, 'BINARY'), (0, 9, 8): BinaryQuadraticModel({'0_9_8': 1.0}, {}, 0.0, 'BINARY'), (1, 9, 8): BinaryQuadraticModel({'1_9_8': 1.0}, {}, 0.0, 'BINARY'), (0, 10, 8): BinaryQuadraticModel({'0_10_8': 1.0}, {}, 0.0, 'BINARY'), (1, 10, 8): BinaryQuadraticModel({'1_10_8': 1.0}, {}, 0.0, 'BINARY'), (0, 0, 9): BinaryQuadraticModel({'0_0_9': 1.0}, {}, 0.0, 'BINARY'), (1, 0, 9): BinaryQuadraticModel({'1_0_9': 1.0}, {}, 0.0, 'BINARY'), (0, 1, 9): BinaryQuadraticModel({'0_1_9': 1.0}, {}, 0.0, 'BINARY'), (1, 1, 9): BinaryQuadraticModel({'1_1_9': 1.0}, {}, 0.0, 'BINARY'), (0, 2, 9): BinaryQuadraticModel({'0_2_9': 1.0}, {}, 0.0, 'BINARY'), (1, 2, 9): BinaryQuadraticModel({'1_2_9': 1.0}, {}, 0.0, 'BINARY'), (0, 3, 9): BinaryQuadraticModel({'0_3_9': 1.0}, {}, 0.0, 'BINARY'), (1, 3, 9): BinaryQuadraticModel({'1_3_9': 1.0}, {}, 0.0, 'BINARY'), (0, 4, 9): BinaryQuadraticModel({'0_4_9': 1.0}, {}, 0.0, 'BINARY'), (1, 4, 9): BinaryQuadraticModel({'1_4_9': 1.0}, {}, 0.0, 'BINARY'), (0, 5, 9): BinaryQuadraticModel({'0_5_9': 1.0}, {}, 0.0, 'BINARY'), (1, 5, 9): BinaryQuadraticModel({'1_5_9': 1.0}, {}, 0.0, 'BINARY'), (0, 6, 9): BinaryQuadraticModel({'0_6_9': 1.0}, {}, 0.0, 'BINARY'), (1, 6, 9): BinaryQuadraticModel({'1_6_9': 1.0}, {}, 0.0, 'BINARY'), (0, 7, 9): BinaryQuadraticModel({'0_7_9': 1.0}, {}, 0.0, 'BINARY'), (1, 7, 9): BinaryQuadraticModel({'1_7_9': 1.0}, {}, 0.0, 'BINARY'), (0, 8, 9): BinaryQuadraticModel({'0_8_9': 1.0}, {}, 0.0, 'BINARY'), (1, 8, 9): BinaryQuadraticModel({'1_8_9': 1.0}, {}, 0.0, 'BINARY'), (0, 9, 9): BinaryQuadraticModel({'0_9_9': 1.0}, {}, 0.0, 'BINARY'), (1, 9, 9): BinaryQuadraticModel({'1_9_9': 1.0}, {}, 0.0, 'BINARY'), (0, 10, 9): BinaryQuadraticModel({'0_10_9': 1.0}, {}, 0.0, 'BINARY'), (1, 10, 9): BinaryQuadraticModel({'1_10_9': 1.0}, {}, 0.0, 'BINARY'), (0, 0, 10): BinaryQuadraticModel({'0_0_10': 1.0}, {}, 0.0, 'BINARY'), (1, 0, 10): BinaryQuadraticModel({'1_0_10': 1.0}, {}, 0.0, 'BINARY'), (0, 1, 10): BinaryQuadraticModel({'0_1_10': 1.0}, {}, 0.0, 'BINARY'), (1, 1, 10): BinaryQuadraticModel({'1_1_10': 1.0}, {}, 0.0, 'BINARY'), (0, 2, 10): BinaryQuadraticModel({'0_2_10': 1.0}, {}, 0.0, 'BINARY'), (1, 2, 10): BinaryQuadraticModel({'1_2_10': 1.0}, {}, 0.0, 'BINARY'), (0, 3, 10): BinaryQuadraticModel({'0_3_10': 1.0}, {}, 0.0, 'BINARY'), (1, 3, 10): BinaryQuadraticModel({'1_3_10': 1.0}, {}, 0.0, 'BINARY'), (0, 4, 10): BinaryQuadraticModel({'0_4_10': 1.0}, {}, 0.0, 'BINARY'), (1, 4, 10): BinaryQuadraticModel({'1_4_10': 1.0}, {}, 0.0, 'BINARY'), (0, 5, 10): BinaryQuadraticModel({'0_5_10': 1.0}, {}, 0.0, 'BINARY'), (1, 5, 10): BinaryQuadraticModel({'1_5_10': 1.0}, {}, 0.0, 'BINARY'), (0, 6, 10): BinaryQuadraticModel({'0_6_10': 1.0}, {}, 0.0, 'BINARY'), (1, 6, 10): BinaryQuadraticModel({'1_6_10': 1.0}, {}, 0.0, 'BINARY'), (0, 7, 10): BinaryQuadraticModel({'0_7_10': 1.0}, {}, 0.0, 'BINARY'), (1, 7, 10): BinaryQuadraticModel({'1_7_10': 1.0}, {}, 0.0, 'BINARY'), (0, 8, 10): BinaryQuadraticModel({'0_8_10': 1.0}, {}, 0.0, 'BINARY'), (1, 8, 10): BinaryQuadraticModel({'1_8_10': 1.0}, {}, 0.0, 'BINARY'), (0, 9, 10): BinaryQuadraticModel({'0_9_10': 1.0}, {}, 0.0, 'BINARY'), (1, 9, 10): BinaryQuadraticModel({'1_9_10': 1.0}, {}, 0.0, 'BINARY'), (0, 10, 10): BinaryQuadraticModel({'0_10_10': 1.0}, {}, 0.0, 'BINARY'), (1, 10, 10): BinaryQuadraticModel({'1_10_10': 1.0}, {}, 0.0, 'BINARY')}\n",
      "\n"
     ]
    }
   ],
   "source": [
    "# Create a sample problem\n",
    "num_destinations = 10\n",
    "num_vehicles = 2\n",
    "\n",
    "cost_matrix = []\n",
    "\n",
    "for i in range(num_destinations + 1):\n",
    "    row = []\n",
    "    for j in range(num_destinations + 1):\n",
    "        if i == j:\n",
    "            row.append(0)\n",
    "        else:\n",
    "            row.append(random.randint(2, 5))\n",
    "\n",
    "    cost_matrix.append(row)\n",
    "\n",
    "\n",
    "cqm = build_vrp_cqm(num_destinations, cost_matrix, num_vehicles)"
   ]
  },
  {
   "cell_type": "code",
   "execution_count": 36,
   "metadata": {},
   "outputs": [
    {
     "name": "stdout",
     "output_type": "stream",
     "text": [
      "\n",
      "Feasible solution found.\n",
      "\n"
     ]
    }
   ],
   "source": [
    "feasible_sampleset, errors = run_cqm(cqm)"
   ]
  },
  {
   "cell_type": "code",
   "execution_count": 51,
   "metadata": {},
   "outputs": [],
   "source": [
    "def parse_string(input_string):\n",
    "    return list(map(int, input_string.split('_')))\n",
    "\n",
    "def build_routes_from_sample(sample, num_vehicles, num_destinations):\n",
    "    \"\"\"Builds a set of routes from the sample returned.\"\"\"\n",
    "\n",
    "    routes =  [[] for _ in range(num_vehicles)]\n",
    "\n",
    "    # Go through all entries\n",
    "    for key, val in sample.items():\n",
    "        vehicle, vertex, step = parse_string(key)\n",
    "        if val == 1.0:\n",
    "            # Ignore repeats\n",
    "            if len(routes[vehicle]) == 0 or vertex != routes[vehicle][-1]:\n",
    "                routes[vehicle].append(vertex)\n",
    "\n",
    "    return routes"
   ]
  },
  {
   "cell_type": "code",
   "execution_count": 54,
   "metadata": {},
   "outputs": [
    {
     "name": "stdout",
     "output_type": "stream",
     "text": [
      "[[0, 10, 1, 3, 4, 6, 7, 8], [10, 2, 5, 9]]\n"
     ]
    }
   ],
   "source": [
    "sample = feasible_sampleset.first.sample\n",
    "\n",
    "routes = build_routes_from_sample(sample, num_vehicles, num_destinations)\n",
    "\n",
    "print(routes)"
   ]
  }
 ],
 "metadata": {
  "kernelspec": {
   "display_name": "dwave_env",
   "language": "python",
   "name": "python3"
  },
  "language_info": {
   "codemirror_mode": {
    "name": "ipython",
    "version": 3
   },
   "file_extension": ".py",
   "mimetype": "text/x-python",
   "name": "python",
   "nbconvert_exporter": "python",
   "pygments_lexer": "ipython3",
   "version": "3.12.3"
  }
 },
 "nbformat": 4,
 "nbformat_minor": 2
}
